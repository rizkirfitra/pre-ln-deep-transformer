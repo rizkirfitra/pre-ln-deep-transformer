{
  "cells": [
    {
      "cell_type": "markdown",
      "source": [
        ""
      ],
      "metadata": {
        "id": "qLAb_-riTz0i"
      }
    },
    {
      "cell_type": "markdown",
      "metadata": {
        "id": "HFzXtVduhG0Z"
      },
      "source": [
        "# Deep Transformer Model with Pre-Layer Normalization for COVID-19 Growth Prediction\n",
        "\n",
        "Percobaan berikut yaitu melakukan prediksi kasus positif COVID-19 Di Indonesia menggunakan model Deep Transformer oleh Wu et al. (2020) (https://arxiv.org/abs/2001.08317) dengan menggunakan layer normalisasi yaitu Pre-Layer Normalization.\n",
        "\n",
        "## Pengaturan percobaan\n",
        "### Dataset\n",
        "Data diambil dari API COVID-19 di Indonesia yaitu https://data.covid19.go.id/public/api/update.json sebanyak 750 data dari awal kasus. Data yang diambil berupa fail JSON yang kemudian diambil tanggal update  dan jumlah kasus harian.\n",
        "\n",
        "Data dibagi menjadi tiga, yaitu 60 hari terakhir digunakan sesuai data uji sedangkankan sisanya di bagi menjadi data latih dan data validasi dengan perbandingan 7:3. Data kemudian dilakukan normalisasi min-max dengan rentang -1 hingga 1.\n",
        "\n",
        "\n",
        "### Arsitektur\n",
        "\n",
        "Arsitektur dari Deep Transformer yang digunakan seperti pada gambar berikut:\n",
        "<p align=\"center\"><img src=\"https://drive.google.com/uc?export=view&id=1iPS9AtMEcEZ3fWHxCnouJ9JlIEbUcv_7\" width=\"300\"/></p>\n",
        "\n",
        "Berikut perbandingan dari Post-Layer Normalization (a) dan Pre-Layer Normalization (b):\n",
        "<p align=\"center\"><img src=\"https://drive.google.com/uc?export=view&id=10zgzQOQTq65VHioGaeB0MfRRfiFbzgB9\" width=\"300\"/></p>\n",
        "\n",
        "\n",
        "### Hyperparameter\n",
        "Hyperparameter awal di-set sebagai berikut:\n",
        "* input_step = 7 (Jumlah hari yang dimasukkan ke model untuk memprediksi)\n",
        "* predict_step = 1 (Jumlah hari yang akan diprediksi)\n",
        "* d<sub>model</sub> = 64 (Dimensi embedding dari data yang masuk ke model)         \n",
        "* batch_size = 1000 (Jumlah data yang masuk dalam 1 batch)\n",
        "* max_epoch = 300 (Banyaknya iterasi pelatihan)\n",
        "* in_dim = 1 (Dimensi fitur data)\n",
        "* N_enc = 2 (Jumlah blok encoder)          \n",
        "* N_dec = 2 (Jumlah blok decoder)\n",
        "* h_enc = 1 (Jumlah head pada encoder)\n",
        "* h_dec = 1 (Jumlah head pada decoder)\n",
        "* ff_hidnum = 50 (Dimensi dari layer Feed Forward)     \n",
        "* hid_pre = 50 (Dimensi dari layer Pre-Layer)     \n",
        "* hid_post = 50 (Dimensi dari layer Post-Layer)      \n",
        "* dropout_pre = 0.2 (Ukuran dropout pada layer Pre-Layer)\n",
        "* dropout_post = 0.2 (Ukuran dropout pada layer Post-Layer)\n",
        "* dropout_model = 0.2 (Ukuran dropout dari blok encoder dan decoder)\n",
        "* norm_first = True (Jenis layer normalisasi yang digunakan, True: Pre-Layer Normalization, False: Post-Layer Normalization)\n",
        "\n",
        "\n",
        "### Pengujian dan Hasil\n",
        "<ol type=\"A\">\n",
        "    <li>Pengujian hyperparameter</li>\n",
        "    <p>Pengujian ini dilakukan untuk mendapatkan hyperparameter terbaik yang nantinya digunakan pada pengujian lanjutan.\n",
        "    </p>\n",
        "    <ol type=\"1\">\n",
        "        <li>Ukuran D<sub>model</sub></li>\n",
        "        <table style=\"display: inline-table;\">\n",
        "            <tr align=\"center\">\n",
        "                <th rowspan=\"2\">Dmodel</th>\n",
        "                <th colspan=\"3\">MAPE</th>\n",
        "            </tr>\n",
        "            <tr align=\"center\">\n",
        "                <th>Pre-LN</th>\n",
        "                <th>Post-LN</th>\n",
        "                <th>Mean</th>\n",
        "            </tr>\n",
        "            <tr align=\"center\">\n",
        "                <td>32</td>\n",
        "                <td>20.07</td>\n",
        "                <td>21.10</td>\n",
        "                <td>20.585</td>\n",
        "            </tr>\n",
        "            <tr align=\"center\">\n",
        "                <td>64</td>\n",
        "                <td><b>19.07</b></td>\n",
        "                <td><b>20.12</b></td>\n",
        "                <td><b>19.595</b></td>\n",
        "            </tr>\n",
        "            <tr align=\"center\">\n",
        "                <td>128</td>\n",
        "                <td>20.08</td>\n",
        "                <td>21.46</td>\n",
        "                <td>20.27</td>\n",
        "            </tr>\n",
        "            <tr align=\"center\">\n",
        "                <td>256</td>\n",
        "                <td>19.92</td>\n",
        "                <td>19.73</td>\n",
        "                <td>19.825</td>\n",
        "            </tr>\n",
        "        </table>\n",
        "        <br>\n",
        "        <li>Jumlah blok encoder dan decoder</li>\n",
        "        <table style=\"display: inline-table;\">\n",
        "            <tr align=\"center\">\n",
        "                <th rowspan=\"2\">Encoder</th>\n",
        "                <th rowspan=\"2\">Decoder</th>\n",
        "                <th colspan=\"3\">MAPE</th>\n",
        "            </tr>\n",
        "            <tr align=\"center\">\n",
        "                <th>Pre-LN</th>\n",
        "                <th>Post-LN</th>\n",
        "                <th>Mean</th>\n",
        "            </tr>\n",
        "            <tr align=\"center\">\n",
        "                <td>1</td>\n",
        "                <td>1</td>\n",
        "                <td>20.52</td>\n",
        "                <td>20.93</td>\n",
        "                <td>20.725</td>\n",
        "            </tr>\n",
        "            <tr align=\"center\">\n",
        "                <td>2</td>\n",
        "                <td>2</td>\n",
        "                <td><b>19.07</b></td>\n",
        "                <td><b>20.12</b></td>\n",
        "                <td><b>19.595</b></td>\n",
        "            </tr>\n",
        "            <tr align=\"center\">\n",
        "                <td>4</td>\n",
        "                <td>4</td>\n",
        "                <td>21.23</td>\n",
        "                <td>21.36</td>\n",
        "                <td>21.295</td>\n",
        "            </tr>\n",
        "            <tr align=\"center\">\n",
        "                <td>2</td>\n",
        "                <td>4</td>\n",
        "                <td>20.28</td>\n",
        "                <td>20.59</td>\n",
        "                <td>20.435</td>\n",
        "            </tr>\n",
        "            <tr align=\"center\">\n",
        "                <td>4</td>\n",
        "                <td>2</td>\n",
        "                <td>21.08</td>\n",
        "                <td>20.82</td>\n",
        "                <td>20.95</td>\n",
        "            </tr>\n",
        "        </table>\n",
        "        <br>\n",
        "        <li>Kombinasi dimendi FFN, Pre-Layer, dan Post-Layer</li>\n",
        "        <table style=\"display: inline-table;\">\n",
        "            <tr align=\"center\">\n",
        "                <th rowspan=\"2\">FFN</th>\n",
        "                <th rowspan=\"2\">Pre-Layer</th>\n",
        "                <th rowspan=\"2\">Post-Layer</th>\n",
        "                <th colspan=\"3\">MAPE</th>\n",
        "            </tr>\n",
        "            <tr align=\"center\">\n",
        "                <th>Pre-LN</th>\n",
        "                <th>Post-LN</th>\n",
        "                <th>Mean</th>\n",
        "            </tr>\n",
        "            <tr align=\"center\">\n",
        "                <td>30</td>\n",
        "                <td>30</td>\n",
        "                <td>30</td>\n",
        "                <td>20.04</td>\n",
        "                <td>20.90</td>\n",
        "                <td>20.47</td>\n",
        "            </tr>\n",
        "            <tr align=\"center\">\n",
        "                <td>50</td>\n",
        "                <td>50</td>\n",
        "                <td>50</td>\n",
        "                <td>19.07</td>\n",
        "                <td>20.12</td>\n",
        "                <td>19.60</td>\n",
        "            </tr>\n",
        "            <tr align=\"center\">\n",
        "                <td>100</td>\n",
        "                <td>100</td>\n",
        "                <td>100</td>\n",
        "                <td>19.87</td>\n",
        "                <td>21.44</td>\n",
        "                <td>20.66</td>\n",
        "            </tr>\n",
        "            <tr align=\"center\">\n",
        "                <td>100</td>\n",
        "                <td>50</td>\n",
        "                <td>50</td>\n",
        "                <td>18.81</td>\n",
        "                <td><b>20.06</b></td>\n",
        "                <td><b>19.44</b></td>\n",
        "            </tr>\n",
        "            <tr align=\"center\">\n",
        "                <td>50</td>\n",
        "                <td>100</td>\n",
        "                <td>50</td>\n",
        "                <td><b>18.70</b></td>\n",
        "                <td>20.34</td>\n",
        "                <td>19.52</td>\n",
        "            </tr>\n",
        "            <tr align=\"center\">\n",
        "                <td>50</td>\n",
        "                <td>50</td>\n",
        "                <td>100</td>\n",
        "                <td>21.71</td>\n",
        "                <td>21.71</td>\n",
        "                <td>21.71</td>\n",
        "            </tr>\n",
        "        </table>\n",
        "        <br>\n",
        "        <li>Ukuran time lag</li>\n",
        "        <table style=\"display: inline-table;\">\n",
        "            <tr align=\"center\">\n",
        "                <th rowspan=\"2\">Time lag</th>\n",
        "                <th colspan=\"3\">MAPE</th>\n",
        "            </tr>\n",
        "            <tr align=\"center\">\n",
        "                <th>Pre-LN</th>\n",
        "                <th>Post-LN</th>\n",
        "                <th>Mean</th>\n",
        "            </tr>\n",
        "            <tr align=\"center\">\n",
        "                <td>4</td>\n",
        "                <td>19.59</td>\n",
        "                <td>20.17</td>\n",
        "                <td>19.88</td>\n",
        "            </tr>\n",
        "            <tr align=\"center\">\n",
        "                <td>7</td>\n",
        "                <td><b>19.07</b></td>\n",
        "                <td><b>20.12</b></td>\n",
        "                <td><b>19.595</b></td>\n",
        "            </tr>\n",
        "            <tr align=\"center\">\n",
        "                <td>14</td>\n",
        "                <td>24.42</td>\n",
        "                <td>25.28</td>\n",
        "                <td>24.85</td>\n",
        "            </tr>\n",
        "            <tr align=\"center\">\n",
        "                <td>30</td>\n",
        "                <td>24.16</td>\n",
        "                <td>25.8</td>\n",
        "                <td>24.98</td>\n",
        "            </tr>\n",
        "        </table>\n",
        "        <br>\n",
        "        <p>Didapatkan hasil parameter terbaik untuk ukuran Dmodel yaitu 64, blok encoder dan decoder masing-masing berjumlah 2, FFN berdimensi 100, Pre-Layer dan Post-Layer berdimensi 50, dan jumlah time lag yaitu 7 hari.</p>\n",
        "        <br>\n",
        "    </ol>\n",
        "    <li>Pengujian Lanjutan</li>\n",
        "    <p>Pengujian lanjutan akan menggunakan nilai hyperparameter terbaik pada pengujian sebelumnya dan menggunakan jenis layer normalisasi Pre-LN.</p>\n",
        "    <ol type=\"1\">\n",
        "        <li>Hasil pengujian terhadap jumlah prediksi hari ke depan</li>\n",
        "        <table style=\"display: inline-table;\">\n",
        "            <tr align=\"center\">\n",
        "                <th rowspan=\"2\">N-day prediction</th>\n",
        "                <th colspan=\"2\">MAPE</th>\n",
        "            </tr>\n",
        "            <tr align=\"center\">\n",
        "                <th>Mean</th>\n",
        "                <th>Standard Deviation</th>\n",
        "            </tr>\n",
        "            <tr align=\"center\">\n",
        "                <td>1</td>\n",
        "                <td><b>22.298</b></td>\n",
        "                <td><b>1.363</b></td>\n",
        "            </tr>\n",
        "            <tr align=\"center\">\n",
        "                <td>2</td>\n",
        "                <td>31.150</td>\n",
        "                <td>2.901</td>\n",
        "            </tr>\n",
        "            <tr align=\"center\">\n",
        "                <td>4</td>\n",
        "                <td>37.428</td>\n",
        "                <td>1.635</td>\n",
        "            </tr>\n",
        "            <tr align=\"center\">\n",
        "                <td>7</td>\n",
        "                <td>42.350</td>\n",
        "                <td>2.893</td>\n",
        "            </tr>\n",
        "        </table>\n",
        "        <br>\n",
        "        <p align=\"center\"><img src=\"https://drive.google.com/uc?export=view&id=1LCed0ehAxNWrIdzABoiuudS3fOKea3ab\" width=\"900\" /></p>\n",
        "        <br>\n",
        "        <li>Hasil pengujian terhadap optimizer yang digunakan</li>\n",
        "        <table style=\"display: inline-table;\">\n",
        "            <tr align=\"center\">\n",
        "                <th rowspan=\"2\">Optimizer</th>\n",
        "                <th colspan=\"2\">MAPE</th>\n",
        "            </tr>\n",
        "            <tr align=\"center\">\n",
        "                <th>Mean</th>\n",
        "                <th>Standard Deviation</th>\n",
        "            </tr>\n",
        "            <tr align=\"center\">\n",
        "                <td>Adam</td>\n",
        "                <td>23.415</td>\n",
        "                <td>1.846</td>\n",
        "            </tr>\n",
        "            <tr align=\"center\">\n",
        "                <td>AdamW</td>\n",
        "                <td>23.870</td>\n",
        "                <td>1.825</td>\n",
        "            </tr>\n",
        "            <tr align=\"center\">\n",
        "                <td>Adamax</td>\n",
        "                <td><b>22.343</b></td>\n",
        "                <td>1.764</td>\n",
        "            </tr>\n",
        "            <tr align=\"center\">\n",
        "                <td>Adagrad</td>\n",
        "                <td>26.560</td>\n",
        "                <td>3.163</td>\n",
        "            </tr>\n",
        "            <tr align=\"center\">\n",
        "                <td>Adadelta</td>\n",
        "                <td>53.410</td>\n",
        "                <td>5.812</td>\n",
        "            </tr>\n",
        "            <tr align=\"center\">\n",
        "                <td>SGD</td>\n",
        "                <td>25.510</td>\n",
        "                <td><b>1.708</b></td>\n",
        "            </tr>\n",
        "            <tr align=\"center\">\n",
        "                <td>RMSprop</td>\n",
        "                <td>26.700</td>\n",
        "                <td>2.501</td>\n",
        "            </tr>\n",
        "        </table>\n",
        "        <br>\n",
        "        <p align=\"center\"><img src=\"https://drive.google.com/uc?export=view&id=1AztixfJfbrvaoAgx69lAxuS3Ji-7gZML\" width=\"900\" /></p>\n",
        "        <li>Hasil pengujian terhadap jumlah fitur masukan</li>\n",
        "        <br>\n",
        "        <table style=\"display: inline-table;\">\n",
        "            <tr align=\"center\">\n",
        "                <th>Feature(s)</th>\n",
        "                <th>MAPE</th>\n",
        "            </tr>\n",
        "            <tr align=\"center\">\n",
        "                <td>1</td>\n",
        "                <td><b>18.83</b></td>\n",
        "            </tr>\n",
        "            <tr align=\"center\">\n",
        "                <td>3</td>\n",
        "                <td>25.24</td>\n",
        "            </tr>\n",
        "        </table>\n",
        "        <br>\n",
        "        <p align=\"center\"><img src=\"https://drive.google.com/uc?export=view&id=10UyPMiQXaeUVjrETex00-qz9q_A3c8xx\" width=\"900\" /></p>\n",
        "        <br>\n",
        "        <li>Hasil pengujian performa terhadap model LSTM dan RNN</li>\n",
        "        <table style=\"display: inline-table;\">\n",
        "            <tr align=\"center\">\n",
        "                <th>Model</th>\n",
        "                <th>MAPE</th>\n",
        "            </tr>\n",
        "            <tr align=\"center\">\n",
        "                <td>Pre-LN Deep Transformer</td>\n",
        "                <td><b>18.83</b></td>\n",
        "            </tr>\n",
        "            <tr align=\"center\">\n",
        "                <td>LSTM</td>\n",
        "                <td>24.33</td>\n",
        "            </tr>\n",
        "            <tr align=\"center\">\n",
        "                <td>RNN</td>\n",
        "                <td>23.15</td>\n",
        "            </tr>\n",
        "        </table>\n",
        "        <br>\n",
        "        <p><img src=\"https://drive.google.com/uc?export=view&id=1laDdtF27ocOFLAMtwEWdHUS99QiiQl8S\" width=\"450\" /></p>\n",
        "    </ol>\n",
        "</ol>"
      ]
    },
    {
      "cell_type": "markdown",
      "metadata": {
        "id": "2Wf2udUrhYzQ"
      },
      "source": [
        "# Deep Transformer\n"
      ]
    },
    {
      "cell_type": "markdown",
      "metadata": {
        "id": "uqbgp_VZhPjA"
      },
      "source": [
        "## Library"
      ]
    },
    {
      "cell_type": "code",
      "execution_count": null,
      "metadata": {
        "id": "Pik-ValOhq8U"
      },
      "outputs": [],
      "source": [
        "import torch\n",
        "from torch import nn, einsum\n",
        "from torch.nn.modules.linear import Linear\n",
        "import torch.optim as optim\n",
        "import torch.nn.functional as F\n",
        "import math\n",
        "from functools import partial"
      ]
    },
    {
      "cell_type": "markdown",
      "metadata": {
        "id": "IryxH6ZFrpLo"
      },
      "source": [
        "## Model"
      ]
    },
    {
      "cell_type": "markdown",
      "metadata": {
        "id": "-OCkFTnihw9k"
      },
      "source": [
        "Full Attention"
      ]
    },
    {
      "cell_type": "code",
      "execution_count": null,
      "metadata": {
        "id": "bzUtBtG7hwZe"
      },
      "outputs": [],
      "source": [
        "def full_attention(query, key, value, causal=False, dropout=0.0):\n",
        "    device = key.device\n",
        "    B_k, h_k, n_k, d_k = key.shape\n",
        "    B_q, h_q, n_q, d_q = query.shape\n",
        "\n",
        "    scale = einsum(\"bhqd,bhkd->bhqk\", query, key)/math.sqrt(d_k)\n",
        "\n",
        "    if causal:\n",
        "        ones = torch.ones(B_k, h_k, n_q, n_k).to(device)\n",
        "        mask = torch.tril(ones)\n",
        "        scale = scale.masked_fill(mask == 0, -1e9)\n",
        "    atn = F.softmax(scale, dim=-1)\n",
        "    if dropout is not None:\n",
        "        atn = F.dropout(atn, p=dropout)   \n",
        "    out = einsum(\"bhqk,bhkd->bhqd\", atn, value)\n",
        "    return out"
      ]
    },
    {
      "cell_type": "code",
      "execution_count": null,
      "metadata": {
        "id": "SG2zO9xrN9CA"
      },
      "outputs": [],
      "source": [
        "def to_eachhead(x, head_num, split_num=3):\n",
        "    B, n, pre_d = x.shape\n",
        "    new_d = pre_d//split_num\n",
        "    assert pre_d%split_num == 0, f\"have to be multiple of {split_num}\"\n",
        "    assert new_d%head_num == 0, \"dim must be divided by head_num\"\n",
        "\n",
        "    tpl = torch.chunk(x, split_num, dim=2)\n",
        "    out = []\n",
        "    for t in tpl:\n",
        "        out.append(t.reshape(B, n, head_num, new_d//head_num).transpose(1,2))\n",
        "    return out"
      ]
    },
    {
      "cell_type": "code",
      "execution_count": null,
      "metadata": {
        "id": "MBKXBwhSOFnS"
      },
      "outputs": [],
      "source": [
        "def concat_head(x):\n",
        "    B, h, n, _d = x.shape\n",
        "    out = x.transpose(1,2).reshape(B, n, _d*h)\n",
        "    return out"
      ]
    },
    {
      "cell_type": "markdown",
      "metadata": {
        "id": "EtedPTrxiDyG"
      },
      "source": [
        "Positional Encoding"
      ]
    },
    {
      "cell_type": "code",
      "execution_count": null,
      "metadata": {
        "id": "NhTmV24Zg8tI"
      },
      "outputs": [],
      "source": [
        "class PositionalEncoding(nn.Module):\n",
        "    def __init__(self, d_model: int, #dropout: float = 0.1, \n",
        "                 max_len: int = 100):\n",
        "        super().__init__()\n",
        "        # self.dropout = nn.Dropout(p=dropout)\n",
        "\n",
        "        position = torch.arange(max_len).unsqueeze(1)\n",
        "        div_term = torch.exp(torch.arange(0, d_model, 2) * (-math.log(10000.0) / d_model))\n",
        "        pe = torch.zeros(max_len, 1, d_model)\n",
        "        pe[:, 0, 0::2] = torch.sin(position * div_term)\n",
        "        pe[:, 0, 1::2] = torch.cos(position * div_term)\n",
        "        self.register_buffer('pe', pe.squeeze(1))\n",
        "\n",
        "    def forward(self, x: torch.Tensor) -> torch.Tensor:\n",
        "        x = x + self.pe[:x.size(1)]\n",
        "        # return self.dropout(x)\n",
        "        return x"
      ]
    },
    {
      "cell_type": "markdown",
      "metadata": {
        "id": "oKrmu6OBP8G9"
      },
      "source": [
        "Pre-layer"
      ]
    },
    {
      "cell_type": "code",
      "execution_count": null,
      "metadata": {
        "id": "OiJ8GvefQAWZ"
      },
      "outputs": [],
      "source": [
        "class PreLayer(nn.Module):\n",
        "    def __init__(self, hid, d_model, drop_out=0.0, in_dim=1):\n",
        "        super().__init__()\n",
        "        self.linear = nn.Linear(in_dim, d_model)\n",
        "\n",
        "    def forward(self, x):\n",
        "        out = self.linear(x)\n",
        "        return out"
      ]
    },
    {
      "cell_type": "markdown",
      "metadata": {
        "id": "i85xI01ZP-r-"
      },
      "source": [
        "Post-layer"
      ]
    },
    {
      "cell_type": "code",
      "execution_count": null,
      "metadata": {
        "id": "v3JWCaq2QGV7"
      },
      "outputs": [],
      "source": [
        "class PostLayer(nn.Module):\n",
        "    def __init__(self, dim, vocab_num, hid_dim, dropout_ratio):\n",
        "        super().__init__()\n",
        "        self.linear = nn.Linear(dim, vocab_num)\n",
        "    def forward(self,x):\n",
        "        out = self.linear(x)\n",
        "        return out"
      ]
    },
    {
      "cell_type": "markdown",
      "metadata": {
        "id": "5elRhXaaQhF3"
      },
      "source": [
        "Multi-head Attention"
      ]
    },
    {
      "cell_type": "markdown",
      "metadata": {
        "id": "TRR-8kZlhz6e"
      },
      "source": [
        "1) Multi-head Self Attention"
      ]
    },
    {
      "cell_type": "code",
      "execution_count": null,
      "metadata": {
        "id": "IQemVp6yh2Jc"
      },
      "outputs": [],
      "source": [
        "class MultiHeadSelfAttention(nn.Module):\n",
        "    def __init__(self, dim, head_num):\n",
        "        super().__init__()\n",
        "        self.to_qvk = nn.Linear(dim, dim*3)\n",
        "        self.make_head = partial(to_eachhead, head_num=head_num, split_num=3)\n",
        "        self.mhsa = full_attention\n",
        "    \n",
        "    def forward(self, x):\n",
        "        qvk = self.to_qvk(x)\n",
        "        q, v, k = self.make_head(qvk)\n",
        "        out = self.mhsa(q, k, v)\n",
        "        out = concat_head(out)\n",
        "        return out"
      ]
    },
    {
      "cell_type": "markdown",
      "metadata": {
        "id": "EGcwyuxhQyPV"
      },
      "source": [
        "2) Multi-head Causal Attention"
      ]
    },
    {
      "cell_type": "code",
      "execution_count": null,
      "metadata": {
        "id": "96fRrPGOQ08N"
      },
      "outputs": [],
      "source": [
        "class MultiHeadCausalAttention(nn.Module):\n",
        "    def __init__(self, dim, head_num):\n",
        "        super().__init__()\n",
        "        self.to_qvk = nn.Linear(dim, dim*3)\n",
        "        self.make_head = partial(to_eachhead, head_num=head_num, split_num=3)\n",
        "        self.mhca = partial(full_attention, causal=True)\n",
        "\n",
        "    def forward(self, x):\n",
        "        qvk = self.to_qvk(x)\n",
        "        q, v, k = self.make_head(qvk)\n",
        "        out = self.mhca(q, k, v)\n",
        "        out = concat_head(out)\n",
        "        return out"
      ]
    },
    {
      "cell_type": "markdown",
      "metadata": {
        "id": "r2tUHWZnQ3mQ"
      },
      "source": [
        "3) Multi-head Source Attention"
      ]
    },
    {
      "cell_type": "code",
      "execution_count": null,
      "metadata": {
        "id": "mptn46JXQ4AC"
      },
      "outputs": [],
      "source": [
        "class MultiHeadSourceAttention(nn.Module):\n",
        "    def __init__(self, dim, head_num):\n",
        "        super().__init__()\n",
        "        self.to_kv = nn.Linear(dim, dim*2)\n",
        "        self.to_q = nn.Linear(dim, dim)\n",
        "        self.make_head_kv = partial(to_eachhead, head_num=head_num, split_num=2)\n",
        "        self.make_head_q = partial(to_eachhead, head_num=head_num, split_num=1)\n",
        "        self.mhsa = full_attention\n",
        "\n",
        "    def forward(self, x, memory):\n",
        "        mem = self.to_kv(memory)\n",
        "        x = self.to_q(x)\n",
        "        k, v = self.make_head_kv(mem)\n",
        "        q = self.make_head_q(x)[0]\n",
        "        out = self.mhsa(q, k, v)\n",
        "        out = concat_head(out)\n",
        "        return out"
      ]
    },
    {
      "cell_type": "markdown",
      "metadata": {
        "id": "mn_j1AYOh8qI"
      },
      "source": [
        "Feed Fordward"
      ]
    },
    {
      "cell_type": "code",
      "execution_count": null,
      "metadata": {
        "id": "TE57qHUpiAnL"
      },
      "outputs": [],
      "source": [
        "class FeedForward(nn.Module):\n",
        "    def __init__(self, dim, hid_dim):\n",
        "        super().__init__()\n",
        "        self.linear1 = nn.Linear(dim, hid_dim, bias=True)\n",
        "        self.relu = nn.ReLU()\n",
        "        self.linear2 = nn.Linear(hid_dim, dim, bias=True)\n",
        "    \n",
        "    def forward(self, x):\n",
        "        out = self.linear1(x)\n",
        "        out = self.relu(out)\n",
        "        out = self.linear2(out)\n",
        "        return out"
      ]
    },
    {
      "cell_type": "markdown",
      "metadata": {
        "id": "D0Loy-Y6ibjG"
      },
      "source": [
        "Encoder"
      ]
    },
    {
      "cell_type": "code",
      "execution_count": null,
      "metadata": {
        "id": "HS_ETwCCie0E"
      },
      "outputs": [],
      "source": [
        "class Encoder(nn.Module):\n",
        "    def __init__(self, depth, dim, head_num, ff_hidnum=2048, dropout_ratio=0.2, norm_first=False):\n",
        "        super().__init__()\n",
        "        self.layers = nn.ModuleList([EncoderLayer(dim, head_num, ff_hidnum, dropout_ratio, norm_first) for i in range(depth)])\n",
        "    \n",
        "    def forward(self, x):\n",
        "        for layer in self.layers:\n",
        "            x = layer(x)\n",
        "        return x"
      ]
    },
    {
      "cell_type": "code",
      "execution_count": null,
      "metadata": {
        "id": "Yoepwo5WiuKP"
      },
      "outputs": [],
      "source": [
        "class EncoderLayer(nn.Module):\n",
        "    def __init__(self, dim, head_num, ff_hidnum, dropout_ratio, norm_first=False):\n",
        "        super().__init__()\n",
        "        self.dor = dropout_ratio\n",
        "        self.mhsa = MultiHeadSelfAttention(dim, head_num)\n",
        "        self.ln1 = nn.LayerNorm(dim)\n",
        "        self.ff = FeedForward(dim, ff_hidnum)\n",
        "        self.ln2 = nn.LayerNorm(dim)\n",
        "        self.norm_first = norm_first\n",
        "\n",
        "    def forward(self, x):\n",
        "        res = torch.clone(x)\n",
        "\n",
        "        if self.norm_first:\n",
        "          out = self.ln1(x)\n",
        "          out = self.mhsa(out)\n",
        "          out = F.dropout(out, p=self.dor) + res\n",
        "\n",
        "          res = torch.clone(out)\n",
        "          out = self.ln2(out)\n",
        "          out = self.ff(out)\n",
        "          out = F.dropout(out, p=self.dor) + res\n",
        "        else:\n",
        "          out = self.mhsa(x)\n",
        "          out = F.dropout(out, p=self.dor) + res\n",
        "          out = self.ln1(out)\n",
        "\n",
        "          res = torch.clone(out)\n",
        "          out = self.ff(out)\n",
        "          out = F.dropout(out, p=self.dor) + res\n",
        "          out = self.ln2(out)\n",
        "\n",
        "        return out"
      ]
    },
    {
      "cell_type": "markdown",
      "metadata": {
        "id": "ZXnhQ17bivln"
      },
      "source": [
        "Decoder"
      ]
    },
    {
      "cell_type": "code",
      "execution_count": null,
      "metadata": {
        "id": "ExxTWH-Tiw2-"
      },
      "outputs": [],
      "source": [
        "class Decoder(nn.Module):\n",
        "    def __init__(self, depth, dim, head_num, ff_hidnum, dropout_ratio=0.2, norm_first=False):\n",
        "        super().__init__()\n",
        "        self.layers = nn.ModuleList([DecoderLayer(dim, head_num, ff_hidnum, dropout_ratio, norm_first) for i in range(depth)])\n",
        "    \n",
        "    def forward(self, x, memory):\n",
        "        for layer in self.layers:\n",
        "            x = layer(x, memory)\n",
        "        return x"
      ]
    },
    {
      "cell_type": "code",
      "execution_count": null,
      "metadata": {
        "id": "ad789UZyi0GJ"
      },
      "outputs": [],
      "source": [
        "class DecoderLayer(nn.Module):\n",
        "    def __init__(self, dim, head_num, ff_hidnum, dropout_ratio, norm_first=False):\n",
        "        super().__init__()\n",
        "        self.dor = dropout_ratio\n",
        "        self.mhca = MultiHeadCausalAttention(dim, head_num)\n",
        "        self.ln1 = nn.LayerNorm(dim)\n",
        "        self.mhsa = MultiHeadSourceAttention(dim, head_num)\n",
        "        self.ln2 = nn.LayerNorm(dim)\n",
        "        self.ff = FeedForward(dim, ff_hidnum)\n",
        "        self.ln3 = nn.LayerNorm(dim)\n",
        "        self.norm_first = norm_first\n",
        "\n",
        "    def forward(self, x, memory):\n",
        "        res = torch.clone(x)\n",
        "\n",
        "        if self.norm_first:\n",
        "          out = self.ln1(x)\n",
        "          out = self.mhca(out)\n",
        "          out = F.dropout(out, p=self.dor) + res\n",
        "          \n",
        "          res = torch.clone(out)\n",
        "          out = self.ln2(out)\n",
        "          out = self.mhsa(out, memory)\n",
        "          out = F.dropout(out, p=self.dor) + res\n",
        "\n",
        "          res = torch.clone(out)\n",
        "          out = self.ln3(out)\n",
        "          out = self.ff(out)\n",
        "          out = F.dropout(out, p=self.dor) + res\n",
        "\n",
        "        else:\n",
        "          out = self.mhca(x)\n",
        "          out = F.dropout(out, p=self.dor) + res\n",
        "          out = self.ln1(out)\n",
        "\n",
        "          res = torch.clone(out)\n",
        "          out = self.mhsa(out, memory)\n",
        "          out = F.dropout(out, p=self.dor) + res\n",
        "          out = self.ln2(out)\n",
        "\n",
        "          res = torch.clone(out)\n",
        "          out = self.ff(out)\n",
        "          out = F.dropout(out, p=self.dor) + res\n",
        "          out = self.ln3(out)\n",
        "\n",
        "        return out"
      ]
    },
    {
      "cell_type": "markdown",
      "metadata": {
        "id": "2x-lKLAljNGT"
      },
      "source": [
        "Transformer"
      ]
    },
    {
      "cell_type": "code",
      "execution_count": null,
      "metadata": {
        "id": "EiUSMgetjOhX"
      },
      "outputs": [],
      "source": [
        "class Transformer(nn.Module):\n",
        "    def __init__(self, device, d_model, in_dim, N_enc, N_dec, h_enc, h_dec, ff_hidnum, hid_pre, hid_post, dropout_pre, dropout_post, dropout_model, norm_first=False):\n",
        "        super().__init__()\n",
        "        self.device = device\n",
        "        self.x_pre = PreLayer(hid_pre, d_model, dropout_pre, in_dim)\n",
        "        self.y_pre = PreLayer(hid_pre, d_model, dropout_pre, in_dim)\n",
        "        self.pos = PositionalEncoding(d_model)\n",
        "        self.enc = Encoder(N_enc,d_model, h_enc, ff_hidnum, dropout_model, norm_first)\n",
        "        self.dec = Decoder(N_dec,d_model, h_dec, ff_hidnum, dropout_model, norm_first)\n",
        "        self.post = PostLayer(d_model, 1, hid_post, dropout_post)\n",
        "\n",
        "    def forward(self, x, y):\n",
        "        x_emb = self.x_pre(x)\n",
        "        y_emb = self.y_pre(y)\n",
        "        x_emb_pos = self.pos(x_emb)\n",
        "        y_emb_pos = self.pos(y_emb)\n",
        "        memory = self.enc(x_emb_pos)\n",
        "        out = self.dec(y_emb_pos, memory)\n",
        "        out = self.post(out)\n",
        "        out = out.squeeze(-1)\n",
        "        return out\n",
        "\n",
        "    def generate(self, x, forcast_step, y_start):\n",
        "        device = x.device\n",
        "        x = x.to(device)\n",
        "        B, N, D = x.shape\n",
        "        x = self.x_pre(x) \n",
        "        x = self.pos(x)\n",
        "        z = self.enc(x) \n",
        "        y = y_start\n",
        "        for i in range(forcast_step):\n",
        "            y_pred = self.y_pre(y)\n",
        "            y_pred = self.pos(y_pred)\n",
        "            y_pred = self.dec(y_pred, z)\n",
        "            y_pred = self.post(y_pred)\n",
        "            y = torch.cat([y, y_pred[:,[-1],:]], dim=1)\n",
        "        y_pred = y_pred.squeeze(-1)\n",
        "        return y_pred"
      ]
    },
    {
      "cell_type": "markdown",
      "metadata": {
        "id": "gXfmpn8JnJVk"
      },
      "source": [
        "## Dataset"
      ]
    },
    {
      "cell_type": "code",
      "execution_count": null,
      "metadata": {
        "id": "ex8jTggGnLHl"
      },
      "outputs": [],
      "source": [
        "class CovidDataset(torch.utils.data.Dataset):\n",
        "    def __init__(self, data, input_step, predict_step):\n",
        "        super().__init__()\n",
        "        self.data = data\n",
        "        self.predict_step = predict_step\n",
        "        self.input_step = input_step\n",
        "        self.start_max = self.data.shape[0] - (self.predict_step + self.input_step) + 1\n",
        "        self.datalen = self.start_max\n",
        "\n",
        "    def __len__(self):\n",
        "        return self.datalen\n",
        "\n",
        "    def __getitem__(self, idx):\n",
        "        start_idx = idx % self.start_max\n",
        "        predict_idx = start_idx + self.input_step\n",
        "        end_idx = predict_idx + self.predict_step\n",
        "\n",
        "        x = self.data[start_idx:predict_idx, :]\n",
        "        y = self.data[predict_idx-1:end_idx-1, :]\n",
        "        tgt = self.data[predict_idx:end_idx, :]\n",
        "\n",
        "        x = torch.from_numpy(x)\n",
        "        y = torch.from_numpy(y)\n",
        "        tgt = torch.from_numpy(tgt)\n",
        "\n",
        "        return x, y, tgt"
      ]
    },
    {
      "cell_type": "code",
      "execution_count": null,
      "metadata": {
        "id": "rnHFWhIq_G9B"
      },
      "outputs": [],
      "source": [
        "# data_path = 'https://data.covid19.go.id/public/api/update.json'\n",
        "# data_path = 'update_22-3-2022.json'\n",
        "import requests\n",
        "import json\n",
        "import pandas as pd\n",
        "\n",
        "def load_data(data_path, from_api=True, dataset_len=None, test_size=30):\n",
        "    data = requests.get(data_path).json() if from_api else pd.read_json(data_path)\n",
        "\n",
        "    df = pd.DataFrame(data['update']['harian'])[['key','jumlah_positif']]\n",
        "    df.key = pd.to_datetime(df.key, unit='ms')\n",
        "\n",
        "    for i, row in enumerate(df.jumlah_positif):\n",
        "        df.loc[i,['jumlah_positif']] = row.get('value')\n",
        "\n",
        "    df = df.set_index('key')\n",
        "    data_len = df.shape[0]\n",
        "    numpy_use = df.to_numpy() if dataset_len == None else df[:dataset_len].to_numpy()\n",
        "    original_data = numpy_use\n",
        "\n",
        "    from sklearn.preprocessing import MinMaxScaler\n",
        "    scaler = MinMaxScaler(feature_range=(-1, 1)) \n",
        "    numpy_use = scaler.fit_transform(numpy_use)\n",
        "    \n",
        "    #train:val:test = 7:3:(default=30 hari terakhir)  \n",
        "    train_val, test_only = numpy_use[:numpy_use.size - test_size], numpy_use[numpy_use.size - test_size:]\n",
        "    train_num = data_len//10 * 7\n",
        "    train_data = train_val[:train_num].astype(\"float32\")\n",
        "    val_data = train_val[train_num:].astype(\"float32\")\n",
        "    test_data = test_only.astype(\"float32\")\n",
        "\n",
        "    return train_data, val_data, test_data, scaler, original_data"
      ]
    },
    {
      "cell_type": "code",
      "execution_count": null,
      "metadata": {
        "id": "31h68SUS9RXp"
      },
      "outputs": [],
      "source": [
        "def make_dataloader(train_data, val_data, test_data, input_step, predict_step, batch_size, shuffle_train=True, shuffle_val=False):\n",
        "    train_set = CovidDataset(train_data, input_step, predict_step)\n",
        "    val_set = CovidDataset(val_data, input_step, predict_step)\n",
        "    test_set = CovidDataset(test_data, input_step, predict_step)\n",
        "\n",
        "    train_loader = torch.utils.data.DataLoader(train_set, batch_size, shuffle=shuffle_train)\n",
        "    val_loader = torch.utils.data.DataLoader(val_set, batch_size=batch_size, shuffle=shuffle_val)\n",
        "    test_loader = torch.utils.data.DataLoader(test_set, batch_size=batch_size, shuffle=False)\n",
        "\n",
        "    return train_loader, val_loader, test_loader"
      ]
    },
    {
      "cell_type": "markdown",
      "metadata": {
        "id": "w06YpJZsjhC1"
      },
      "source": [
        "## Training"
      ]
    },
    {
      "cell_type": "markdown",
      "metadata": {
        "id": "0oUlzDFPFWJo"
      },
      "source": [
        "Training Utils"
      ]
    },
    {
      "cell_type": "code",
      "execution_count": null,
      "metadata": {
        "id": "sp15c4v5nBPP"
      },
      "outputs": [],
      "source": [
        "def lr_func(step, d_model):\n",
        "    warmup_steps = 5000\n",
        "    step_term = min(step**0.5, step*warmup_steps**(-1.5))\n",
        "    return d_model**0.5 * step_term"
      ]
    },
    {
      "cell_type": "code",
      "execution_count": null,
      "metadata": {
        "id": "SEU5QlGno7Fe"
      },
      "outputs": [],
      "source": [
        "import random\n",
        "\n",
        "def fix_seed(seed):\n",
        "    # random\n",
        "    random.seed(seed)\n",
        "    # Numpy\n",
        "    np.random.seed(seed)\n",
        "    # Pytorch\n",
        "    torch.manual_seed(seed)\n",
        "    torch.cuda.manual_seed_all(seed)\n",
        "    torch.backends.cudnn.deterministic = True"
      ]
    },
    {
      "cell_type": "code",
      "execution_count": null,
      "metadata": {
        "id": "bU8xeHRaVcOY"
      },
      "outputs": [],
      "source": [
        "## Calculate MSE eval\n",
        "def check_data(device, test_loader, net, criterion):\n",
        "    net.eval()\n",
        "    loss_log = []\n",
        "    for iter, (x, y, tgt) in enumerate(test_loader):\n",
        "        x, y, tgt = x.to(device), y.to(device), tgt.to(device)\n",
        "        tgt = tgt[:,:,0]\n",
        "        \n",
        "        out = net(x, y)\n",
        "\n",
        "        loss = criterion(out, tgt)\n",
        "        loss_log.append(loss.item())\n",
        "    \n",
        "    return sum(loss_log)/len(loss_log)# MSE"
      ]
    },
    {
      "cell_type": "code",
      "execution_count": null,
      "metadata": {
        "id": "QALsb7NgGa7j"
      },
      "outputs": [],
      "source": [
        "import torch\n",
        "import numpy as np\n",
        "import os"
      ]
    },
    {
      "cell_type": "code",
      "execution_count": null,
      "metadata": {
        "id": "YfvsfI1po23t"
      },
      "outputs": [],
      "source": [
        "torch.set_printoptions(precision=5, sci_mode=False)\n",
        "np.set_printoptions(precision=5, suppress=True)\n",
        "\n",
        "device = torch.device(\"cuda\" if torch.cuda.is_available() else \"cpu\")\n",
        "# fix_seed(SEED)"
      ]
    },
    {
      "cell_type": "markdown",
      "metadata": {
        "id": "AZ9GnGwskDQu"
      },
      "source": [
        "Hyper-parameter"
      ]
    },
    {
      "cell_type": "code",
      "execution_count": null,
      "metadata": {
        "id": "BQSrVcnikGNC"
      },
      "outputs": [],
      "source": [
        "input_step = 7      \n",
        "predict_step = 1    \n",
        "d_model = 64         \n",
        "batch_size = 1000\n",
        "max_epoch = 300\n",
        "in_dim = 1\n",
        "N_enc = 2           \n",
        "N_dec = 2            \n",
        "h_enc = 1\n",
        "h_dec = 1\n",
        "ff_hidnum = 50     \n",
        "hid_pre = 50      \n",
        "hid_post = 50       \n",
        "dropout_pre = 0.2\n",
        "dropout_post = 0.2\n",
        "dropout_model = 0.2\n",
        "save_each = 10\n",
        "norm_first = False # default = False (Post-LN)\n",
        "# dbg = args.debug\n",
        "model_path = '/content/model/'\n",
        "test_result_path = '/content/test_result_path/'"
      ]
    },
    {
      "cell_type": "code",
      "execution_count": null,
      "metadata": {
        "id": "C3Hd_iTWFjH6"
      },
      "outputs": [],
      "source": [
        "dir_list = [\"/content/model/\",\"/content/test_result_path/\"]\n",
        "\n",
        "for dir in dir_list:\n",
        "  if os.path.isdir(dir) != True:\n",
        "    os.mkdir(dir)"
      ]
    },
    {
      "cell_type": "markdown",
      "metadata": {
        "id": "gBYIHpPmjYmz"
      },
      "source": [
        "Load Data"
      ]
    },
    {
      "cell_type": "code",
      "execution_count": null,
      "metadata": {
        "id": "NvTeaHQ5BAhc"
      },
      "outputs": [],
      "source": [
        "train, val, test, scaler, original = load_data('https://data.covid19.go.id/public/api/update.json', \n",
        "                                               dataset_len=750, test_size=60)\n",
        "# train, val, test, scaler, original = load_data('update 12-05-2022.json', from_api=False, \n",
        "#                                                          dataset_len=750, test_size=60)#input_step+predict_step+60)"
      ]
    },
    {
      "cell_type": "code",
      "execution_count": null,
      "metadata": {
        "colab": {
          "base_uri": "https://localhost:8080/"
        },
        "id": "vqJtpGULQmxD",
        "outputId": "320303bd-4713-45f3-c6c3-dc7232bf8314"
      },
      "outputs": [
        {
          "output_type": "execute_result",
          "data": {
            "text/plain": [
              "((623, 1), (67, 1), (60, 1))"
            ]
          },
          "metadata": {},
          "execution_count": 28
        }
      ],
      "source": [
        "train.shape, val.shape, test.shape"
      ]
    },
    {
      "cell_type": "code",
      "execution_count": null,
      "metadata": {
        "colab": {
          "base_uri": "https://localhost:8080/"
        },
        "id": "3x1WUTVNT_jB",
        "outputId": "37dd2198-dfd2-4312-f604-ae98e46eca91"
      },
      "outputs": [
        {
          "output_type": "execute_result",
          "data": {
            "text/plain": [
              "750"
            ]
          },
          "metadata": {},
          "execution_count": 29
        }
      ],
      "source": [
        "train.size + val.size + test.size"
      ]
    },
    {
      "cell_type": "code",
      "execution_count": null,
      "metadata": {
        "id": "qUZu79mxBlnb"
      },
      "outputs": [],
      "source": [
        "train_loader, val_loader, test_loader = make_dataloader(train, val, test, input_step, predict_step, batch_size, shuffle_train=True, shuffle_val=True)"
      ]
    },
    {
      "cell_type": "markdown",
      "metadata": {
        "id": "B5b4Z893jc7x"
      },
      "source": [
        "Load Model dan Optimizer"
      ]
    },
    {
      "cell_type": "code",
      "execution_count": null,
      "metadata": {
        "id": "mPgrCwJjGyvh"
      },
      "outputs": [],
      "source": [
        "net = Transformer(device, d_model, in_dim, N_enc, N_dec, h_enc, h_dec, ff_hidnum, hid_pre, hid_post, dropout_pre, dropout_post, dropout_model, norm_first)\n",
        "net = net.to(device)\n",
        "\n",
        "optimizer = optim.Adam(net.parameters(), lr=1.0, betas=(0.9,0.98))\n",
        "scheduler = optim.lr_scheduler.LambdaLR(optimizer, lr_lambda=partial(lr_func, d_model = d_model))# from 論文"
      ]
    },
    {
      "cell_type": "markdown",
      "metadata": {
        "id": "rAe97hrqGKOX"
      },
      "source": [
        "Training"
      ]
    },
    {
      "cell_type": "code",
      "execution_count": null,
      "metadata": {
        "colab": {
          "base_uri": "https://localhost:8080/"
        },
        "id": "QYAMDmTRGMHL",
        "outputId": "d231d785-659e-4a26-f09d-6eaba42dc49e"
      },
      "outputs": [
        {
          "output_type": "stream",
          "name": "stdout",
          "text": [
            "epoch : 0, itr :0, MSE loss : 2.5237255096435547, RMSE loss : 1.5886237621307373\n",
            "val_loss : 3.2903006076812744, rmse : 1.8139185780186702\n",
            "\n",
            "epoch : 1, itr :0, MSE loss : 2.5535624027252197, RMSE loss : 1.5979869365692139\n",
            "val_loss : 3.25427508354187, rmse : 1.8039609429092056\n",
            "\n",
            "epoch : 2, itr :0, MSE loss : 2.445919990539551, RMSE loss : 1.5639437437057495\n",
            "val_loss : 2.9793102741241455, rmse : 1.726067864866311\n",
            "\n",
            "epoch : 3, itr :0, MSE loss : 2.2746801376342773, RMSE loss : 1.5082042217254639\n",
            "val_loss : 2.918740749359131, rmse : 1.7084322489812498\n",
            "\n",
            "epoch : 4, itr :0, MSE loss : 2.0802817344665527, RMSE loss : 1.4423182010650635\n",
            "val_loss : 2.32682204246521, rmse : 1.525392422449125\n",
            "\n",
            "epoch : 5, itr :0, MSE loss : 1.906256914138794, RMSE loss : 1.380672574043274\n",
            "val_loss : 2.3022189140319824, rmse : 1.517306466746907\n",
            "\n",
            "epoch : 6, itr :0, MSE loss : 1.6192739009857178, RMSE loss : 1.2725069522857666\n",
            "val_loss : 1.674582600593567, rmse : 1.2940566450482633\n",
            "\n",
            "epoch : 7, itr :0, MSE loss : 1.291499376296997, RMSE loss : 1.1364415884017944\n",
            "val_loss : 1.58277428150177, rmse : 1.258083574927266\n",
            "\n",
            "epoch : 8, itr :0, MSE loss : 1.0330514907836914, RMSE loss : 1.016391396522522\n",
            "val_loss : 1.1795668601989746, rmse : 1.0860786620677965\n",
            "\n",
            "epoch : 9, itr :0, MSE loss : 0.734077513217926, RMSE loss : 0.8567832112312317\n",
            "val_loss : 0.6801103949546814, rmse : 0.8246880591803676\n",
            "\n",
            "epoch : 10, itr :0, MSE loss : 0.508743166923523, RMSE loss : 0.7132623195648193\n",
            "val_loss : 0.41422292590141296, rmse : 0.6436015272677753\n",
            "\n",
            "epoch : 11, itr :0, MSE loss : 0.31870636343955994, RMSE loss : 0.5645408630371094\n",
            "val_loss : 0.24533052742481232, rmse : 0.4953085174159761\n",
            "\n",
            "epoch : 12, itr :0, MSE loss : 0.21178899705410004, RMSE loss : 0.4602053761482239\n",
            "val_loss : 0.09121610224246979, rmse : 0.30202003616063255\n",
            "\n",
            "epoch : 13, itr :0, MSE loss : 0.15643516182899475, RMSE loss : 0.39551883935928345\n",
            "val_loss : 0.042951762676239014, rmse : 0.20724807038001347\n",
            "\n",
            "epoch : 14, itr :0, MSE loss : 0.192799374461174, RMSE loss : 0.43908926844596863\n",
            "val_loss : 0.0632290467619896, rmse : 0.2514538660708751\n",
            "\n",
            "epoch : 15, itr :0, MSE loss : 0.2606489956378937, RMSE loss : 0.5105379223823547\n",
            "val_loss : 0.08190653473138809, rmse : 0.2861931772970629\n",
            "\n",
            "epoch : 16, itr :0, MSE loss : 0.36199575662612915, RMSE loss : 0.6016608476638794\n",
            "val_loss : 0.17931517958641052, rmse : 0.42345623101615887\n",
            "\n",
            "epoch : 17, itr :0, MSE loss : 0.42533978819847107, RMSE loss : 0.6521807909011841\n",
            "val_loss : 0.1958114057779312, rmse : 0.4425058256994265\n",
            "\n",
            "epoch : 18, itr :0, MSE loss : 0.503025472164154, RMSE loss : 0.7092428803443909\n",
            "val_loss : 0.24391183257102966, rmse : 0.4938743084743624\n",
            "\n",
            "epoch : 19, itr :0, MSE loss : 0.5413375496864319, RMSE loss : 0.7357564568519592\n",
            "val_loss : 0.2314750701189041, rmse : 0.48111856139511405\n",
            "\n",
            "epoch : 20, itr :0, MSE loss : 0.5416243672370911, RMSE loss : 0.7359513640403748\n",
            "val_loss : 0.24043282866477966, rmse : 0.49033950347160454\n",
            "\n",
            "epoch : 21, itr :0, MSE loss : 0.5148242115974426, RMSE loss : 0.7175124883651733\n",
            "val_loss : 0.15897689759731293, rmse : 0.3987190710228355\n",
            "\n",
            "epoch : 22, itr :0, MSE loss : 0.4371678829193115, RMSE loss : 0.661186695098877\n",
            "val_loss : 0.17067024111747742, rmse : 0.41312254975670043\n",
            "\n",
            "epoch : 23, itr :0, MSE loss : 0.38255906105041504, RMSE loss : 0.6185135841369629\n",
            "val_loss : 0.09702849388122559, rmse : 0.3114939708585474\n",
            "\n",
            "epoch : 24, itr :0, MSE loss : 0.2987978160381317, RMSE loss : 0.5466240048408508\n",
            "val_loss : 0.0825367122888565, rmse : 0.28729203311065993\n",
            "\n",
            "epoch : 25, itr :0, MSE loss : 0.2051982432603836, RMSE loss : 0.4529881179332733\n",
            "val_loss : 0.028544414788484573, rmse : 0.168950924201333\n",
            "\n",
            "epoch : 26, itr :0, MSE loss : 0.15002068877220154, RMSE loss : 0.3873250484466553\n",
            "val_loss : 0.028887130320072174, rmse : 0.1699621437852329\n",
            "\n",
            "epoch : 27, itr :0, MSE loss : 0.11309709399938583, RMSE loss : 0.3362991213798523\n",
            "val_loss : 0.0399927981197834, rmse : 0.19998199448896242\n",
            "\n",
            "epoch : 28, itr :0, MSE loss : 0.09315744042396545, RMSE loss : 0.30521702766418457\n",
            "val_loss : 0.07792171090841293, rmse : 0.2791446057304582\n",
            "\n",
            "epoch : 29, itr :0, MSE loss : 0.07909674197435379, RMSE loss : 0.28124141693115234\n",
            "val_loss : 0.11566972732543945, rmse : 0.34010252472664687\n",
            "\n",
            "epoch : 30, itr :0, MSE loss : 0.10143094509840012, RMSE loss : 0.31848224997520447\n",
            "val_loss : 0.1553903967142105, rmse : 0.39419588622182566\n",
            "\n",
            "epoch : 31, itr :0, MSE loss : 0.11660143733024597, RMSE loss : 0.34146952629089355\n",
            "val_loss : 0.21760018169879913, rmse : 0.46647634634437696\n",
            "\n",
            "epoch : 32, itr :0, MSE loss : 0.14601843059062958, RMSE loss : 0.38212358951568604\n",
            "val_loss : 0.2525325119495392, rmse : 0.5025261306136619\n",
            "\n",
            "epoch : 33, itr :0, MSE loss : 0.16328547894954681, RMSE loss : 0.40408599376678467\n",
            "val_loss : 0.24886220693588257, rmse : 0.4988609094085069\n",
            "\n",
            "epoch : 34, itr :0, MSE loss : 0.1815750002861023, RMSE loss : 0.4261161684989929\n",
            "val_loss : 0.23021742701530457, rmse : 0.47980978211714753\n",
            "\n",
            "epoch : 35, itr :0, MSE loss : 0.1700642704963684, RMSE loss : 0.41238850355148315\n",
            "val_loss : 0.22072531282901764, rmse : 0.46981412582958554\n",
            "\n",
            "epoch : 36, itr :0, MSE loss : 0.14184728264808655, RMSE loss : 0.376626193523407\n",
            "val_loss : 0.2068641632795334, rmse : 0.4548232220099732\n",
            "\n",
            "epoch : 37, itr :0, MSE loss : 0.1240619346499443, RMSE loss : 0.3522242605686188\n",
            "val_loss : 0.12907613813877106, rmse : 0.35927167734010296\n",
            "\n",
            "epoch : 38, itr :0, MSE loss : 0.09904002398252487, RMSE loss : 0.3147062361240387\n",
            "val_loss : 0.09516988694667816, rmse : 0.30849617006808716\n",
            "\n",
            "epoch : 39, itr :0, MSE loss : 0.07507681101560593, RMSE loss : 0.27400147914886475\n",
            "val_loss : 0.0830460712313652, rmse : 0.28817715251449966\n",
            "\n",
            "epoch : 40, itr :0, MSE loss : 0.06189141795039177, RMSE loss : 0.24877986311912537\n",
            "val_loss : 0.03721962869167328, rmse : 0.19292389352196188\n",
            "\n",
            "epoch : 41, itr :0, MSE loss : 0.04892204329371452, RMSE loss : 0.22118328511714935\n",
            "val_loss : 0.039927102625370026, rmse : 0.19981767345600346\n",
            "\n",
            "epoch : 42, itr :0, MSE loss : 0.05400608852505684, RMSE loss : 0.2323921024799347\n",
            "val_loss : 0.03390379250049591, rmse : 0.1841298251248176\n",
            "\n",
            "epoch : 43, itr :0, MSE loss : 0.05795854702591896, RMSE loss : 0.24074581265449524\n",
            "val_loss : 0.02800126001238823, rmse : 0.16733577027159563\n",
            "\n",
            "epoch : 44, itr :0, MSE loss : 0.06203073635697365, RMSE loss : 0.24905970692634583\n",
            "val_loss : 0.028099384158849716, rmse : 0.16762870923218887\n",
            "\n",
            "epoch : 45, itr :0, MSE loss : 0.06675684452056885, RMSE loss : 0.2583734691143036\n",
            "val_loss : 0.029805835336446762, rmse : 0.1726436657872126\n",
            "\n",
            "epoch : 46, itr :0, MSE loss : 0.06871219724416733, RMSE loss : 0.26213011145591736\n",
            "val_loss : 0.03115043230354786, rmse : 0.1764948506431501\n",
            "\n",
            "epoch : 47, itr :0, MSE loss : 0.0626511499285698, RMSE loss : 0.25030210614204407\n",
            "val_loss : 0.03869492560625076, rmse : 0.1967102580097204\n",
            "\n",
            "epoch : 48, itr :0, MSE loss : 0.05496755987405777, RMSE loss : 0.23445162177085876\n",
            "val_loss : 0.019866641610860825, rmse : 0.14094907452999053\n",
            "\n",
            "epoch : 49, itr :0, MSE loss : 0.04322382062673569, RMSE loss : 0.20790338516235352\n",
            "val_loss : 0.025651395320892334, rmse : 0.16016052984706416\n",
            "\n",
            "epoch : 50, itr :0, MSE loss : 0.04134850949048996, RMSE loss : 0.20334333181381226\n",
            "val_loss : 0.03315522149205208, rmse : 0.18208575312761863\n",
            "\n",
            "epoch : 51, itr :0, MSE loss : 0.03313931077718735, RMSE loss : 0.18204206228256226\n",
            "val_loss : 0.035086046904325485, rmse : 0.18731269819295618\n",
            "\n",
            "epoch : 52, itr :0, MSE loss : 0.03356504440307617, RMSE loss : 0.1832076609134674\n",
            "val_loss : 0.03455071151256561, rmse : 0.18587821688558778\n",
            "\n",
            "epoch : 53, itr :0, MSE loss : 0.03873680531978607, RMSE loss : 0.19681668281555176\n",
            "val_loss : 0.05608251318335533, rmse : 0.23681746807056978\n",
            "\n",
            "epoch : 54, itr :0, MSE loss : 0.04591946303844452, RMSE loss : 0.21428826451301575\n",
            "val_loss : 0.051748666912317276, rmse : 0.227483333262719\n",
            "\n",
            "epoch : 55, itr :0, MSE loss : 0.04699593037366867, RMSE loss : 0.21678544580936432\n",
            "val_loss : 0.04779292270541191, rmse : 0.21861592509561584\n",
            "\n",
            "epoch : 56, itr :0, MSE loss : 0.04187038168311119, RMSE loss : 0.2046225368976593\n",
            "val_loss : 0.03494199365377426, rmse : 0.1869277765709908\n",
            "\n",
            "epoch : 57, itr :0, MSE loss : 0.04209307208657265, RMSE loss : 0.20516596734523773\n",
            "val_loss : 0.03655415028333664, rmse : 0.19119139699091234\n",
            "\n",
            "epoch : 58, itr :0, MSE loss : 0.034570835530757904, RMSE loss : 0.18593233823776245\n",
            "val_loss : 0.023990996181964874, rmse : 0.15489027142453096\n",
            "\n",
            "epoch : 59, itr :0, MSE loss : 0.031278375536203384, RMSE loss : 0.17685693502426147\n",
            "val_loss : 0.017684446647763252, rmse : 0.1329828810327226\n",
            "\n",
            "epoch : 60, itr :0, MSE loss : 0.03325319662690163, RMSE loss : 0.18235458433628082\n",
            "val_loss : 0.027993416413664818, rmse : 0.16731233192345632\n",
            "\n",
            "epoch : 61, itr :0, MSE loss : 0.030364306643605232, RMSE loss : 0.17425356805324554\n",
            "val_loss : 0.02199215069413185, rmse : 0.14829750737666447\n",
            "\n",
            "epoch : 62, itr :0, MSE loss : 0.03495298698544502, RMSE loss : 0.18695718050003052\n",
            "val_loss : 0.01812160201370716, rmse : 0.13461649978255696\n",
            "\n",
            "epoch : 63, itr :0, MSE loss : 0.034156762063503265, RMSE loss : 0.18481548130512238\n",
            "val_loss : 0.024782050400972366, rmse : 0.15742315713062155\n",
            "\n",
            "epoch : 64, itr :0, MSE loss : 0.03476480394601822, RMSE loss : 0.1864532232284546\n",
            "val_loss : 0.0169216338545084, rmse : 0.13008318052118958\n",
            "\n",
            "epoch : 65, itr :0, MSE loss : 0.030737483873963356, RMSE loss : 0.1753210872411728\n",
            "val_loss : 0.022706996649503708, rmse : 0.15068840914119344\n",
            "\n",
            "epoch : 66, itr :0, MSE loss : 0.02914019674062729, RMSE loss : 0.17070500552654266\n",
            "val_loss : 0.033754270523786545, rmse : 0.183723353234657\n",
            "\n",
            "epoch : 67, itr :0, MSE loss : 0.026245074346661568, RMSE loss : 0.1620033085346222\n",
            "val_loss : 0.02699963189661503, rmse : 0.16431564714480185\n",
            "\n",
            "epoch : 68, itr :0, MSE loss : 0.02774282544851303, RMSE loss : 0.1665617823600769\n",
            "val_loss : 0.030751653015613556, rmse : 0.17536149239674473\n",
            "\n",
            "epoch : 69, itr :0, MSE loss : 0.029436083510518074, RMSE loss : 0.17156946659088135\n",
            "val_loss : 0.027489306405186653, rmse : 0.1657989939812261\n",
            "\n",
            "epoch : 70, itr :0, MSE loss : 0.027216102927923203, RMSE loss : 0.16497303545475006\n",
            "val_loss : 0.027450883761048317, rmse : 0.16568308230187026\n",
            "\n",
            "epoch : 71, itr :0, MSE loss : 0.029882749542593956, RMSE loss : 0.17286626994609833\n",
            "val_loss : 0.02623892016708851, rmse : 0.1619843207445971\n",
            "\n",
            "epoch : 72, itr :0, MSE loss : 0.02776375040411949, RMSE loss : 0.16662457585334778\n",
            "val_loss : 0.029894907027482986, rmse : 0.17290143732046587\n",
            "\n",
            "epoch : 73, itr :0, MSE loss : 0.027383238077163696, RMSE loss : 0.16547881066799164\n",
            "val_loss : 0.022455986589193344, rmse : 0.14985321681296448\n",
            "\n",
            "epoch : 74, itr :0, MSE loss : 0.024658484384417534, RMSE loss : 0.15703019499778748\n",
            "val_loss : 0.025016142055392265, rmse : 0.1581649204324153\n",
            "\n",
            "epoch : 75, itr :0, MSE loss : 0.02600310929119587, RMSE loss : 0.16125479340553284\n",
            "val_loss : 0.014990482479333878, rmse : 0.12243562585838273\n",
            "\n",
            "epoch : 76, itr :0, MSE loss : 0.027085501700639725, RMSE loss : 0.16457673907279968\n",
            "val_loss : 0.02780243568122387, rmse : 0.1667406239679577\n",
            "\n",
            "epoch : 77, itr :0, MSE loss : 0.02627374976873398, RMSE loss : 0.16209179162979126\n",
            "val_loss : 0.024178363382816315, rmse : 0.15549393358847255\n",
            "\n",
            "epoch : 78, itr :0, MSE loss : 0.027949146926403046, RMSE loss : 0.16717998683452606\n",
            "val_loss : 0.018073059618473053, rmse : 0.1344360800472591\n",
            "\n",
            "epoch : 79, itr :0, MSE loss : 0.02573450095951557, RMSE loss : 0.160419762134552\n",
            "val_loss : 0.022332165390253067, rmse : 0.149439504115388\n",
            "\n",
            "epoch : 80, itr :0, MSE loss : 0.02335434965789318, RMSE loss : 0.15282130241394043\n",
            "val_loss : 0.026057282462716103, rmse : 0.1614226826152883\n",
            "\n",
            "epoch : 81, itr :0, MSE loss : 0.021438801661133766, RMSE loss : 0.1464199423789978\n",
            "val_loss : 0.01855623349547386, rmse : 0.13622126667842235\n",
            "\n",
            "epoch : 82, itr :0, MSE loss : 0.024774739518761635, RMSE loss : 0.15739993751049042\n",
            "val_loss : 0.025704002007842064, rmse : 0.16032467685244858\n",
            "\n",
            "epoch : 83, itr :0, MSE loss : 0.021680554375052452, RMSE loss : 0.1472431868314743\n",
            "val_loss : 0.020654819905757904, rmse : 0.14371784825051448\n",
            "\n",
            "epoch : 84, itr :0, MSE loss : 0.02444414794445038, RMSE loss : 0.15634624660015106\n",
            "val_loss : 0.01888606697320938, rmse : 0.13742658757754767\n",
            "\n",
            "epoch : 85, itr :0, MSE loss : 0.02431991882622242, RMSE loss : 0.1559484452009201\n",
            "val_loss : 0.017423471435904503, rmse : 0.1319979978480905\n",
            "\n",
            "epoch : 86, itr :0, MSE loss : 0.023189624771475792, RMSE loss : 0.15228140354156494\n",
            "val_loss : 0.014073777943849564, rmse : 0.11863295471263272\n",
            "\n",
            "epoch : 87, itr :0, MSE loss : 0.020530590787529945, RMSE loss : 0.14328499138355255\n",
            "val_loss : 0.016191357746720314, rmse : 0.1272452661073107\n",
            "\n",
            "epoch : 88, itr :0, MSE loss : 0.02182646468281746, RMSE loss : 0.14773783087730408\n",
            "val_loss : 0.014944360591471195, rmse : 0.12224712917476302\n",
            "\n",
            "epoch : 89, itr :0, MSE loss : 0.02114981785416603, RMSE loss : 0.14542977511882782\n",
            "val_loss : 0.01761982962489128, rmse : 0.13273970628599147\n",
            "\n",
            "epoch : 90, itr :0, MSE loss : 0.02011590078473091, RMSE loss : 0.14183053374290466\n",
            "val_loss : 0.013111400417983532, rmse : 0.11450502354911567\n",
            "\n",
            "epoch : 91, itr :0, MSE loss : 0.018490053713321686, RMSE loss : 0.13597813248634338\n",
            "val_loss : 0.011377017013728619, rmse : 0.1066631005255736\n",
            "\n",
            "epoch : 92, itr :0, MSE loss : 0.019653793424367905, RMSE loss : 0.14019198715686798\n",
            "val_loss : 0.01901494525372982, rmse : 0.1378946889975456\n",
            "\n",
            "epoch : 93, itr :0, MSE loss : 0.020325586199760437, RMSE loss : 0.14256782829761505\n",
            "val_loss : 0.014009908773005009, rmse : 0.1183634604639667\n",
            "\n",
            "epoch : 94, itr :0, MSE loss : 0.02045026421546936, RMSE loss : 0.1430044174194336\n",
            "val_loss : 0.013846252113580704, rmse : 0.11767009863844215\n",
            "\n",
            "epoch : 95, itr :0, MSE loss : 0.018468812108039856, RMSE loss : 0.13590000569820404\n",
            "val_loss : 0.01570381037890911, rmse : 0.12531484500612491\n",
            "\n",
            "epoch : 96, itr :0, MSE loss : 0.017065860331058502, RMSE loss : 0.13063636422157288\n",
            "val_loss : 0.010643752291798592, rmse : 0.1031685625168762\n",
            "\n",
            "epoch : 97, itr :0, MSE loss : 0.019581424072384834, RMSE loss : 0.13993364572525024\n",
            "val_loss : 0.01220338698476553, rmse : 0.11046894126751433\n",
            "\n",
            "epoch : 98, itr :0, MSE loss : 0.01776505820453167, RMSE loss : 0.13328562676906586\n",
            "val_loss : 0.01320264209061861, rmse : 0.11490275057899445\n",
            "\n",
            "epoch : 99, itr :0, MSE loss : 0.016995461657643318, RMSE loss : 0.13036663830280304\n",
            "val_loss : 0.01749618723988533, rmse : 0.13227315388953773\n",
            "\n",
            "epoch : 100, itr :0, MSE loss : 0.016364987939596176, RMSE loss : 0.12792570888996124\n",
            "val_loss : 0.012547913007438183, rmse : 0.11201746742110438\n",
            "\n",
            "epoch : 101, itr :0, MSE loss : 0.015621292404830456, RMSE loss : 0.12498516589403152\n",
            "val_loss : 0.013299552723765373, rmse : 0.11532368674199318\n",
            "\n",
            "epoch : 102, itr :0, MSE loss : 0.01688367687165737, RMSE loss : 0.12993720173835754\n",
            "val_loss : 0.012387460097670555, rmse : 0.11129896719049354\n",
            "\n",
            "epoch : 103, itr :0, MSE loss : 0.01536883320659399, RMSE loss : 0.12397109717130661\n",
            "val_loss : 0.01096123456954956, rmse : 0.10469591477010724\n",
            "\n",
            "epoch : 104, itr :0, MSE loss : 0.014988654293119907, RMSE loss : 0.12242815643548965\n",
            "val_loss : 0.009515229612588882, rmse : 0.09754603842590884\n",
            "\n",
            "epoch : 105, itr :0, MSE loss : 0.014775067567825317, RMSE loss : 0.1215527355670929\n",
            "val_loss : 0.014621671289205551, rmse : 0.12092010291595666\n",
            "\n",
            "epoch : 106, itr :0, MSE loss : 0.013198434375226498, RMSE loss : 0.11488443613052368\n",
            "val_loss : 0.008730125613510609, rmse : 0.09343514121309289\n",
            "\n",
            "epoch : 107, itr :0, MSE loss : 0.014703808352351189, RMSE loss : 0.12125925719738007\n",
            "val_loss : 0.00990384817123413, rmse : 0.09951807961990691\n",
            "\n",
            "epoch : 108, itr :0, MSE loss : 0.015040458180010319, RMSE loss : 0.12263954430818558\n",
            "val_loss : 0.010275091975927353, rmse : 0.10136612834634336\n",
            "\n",
            "epoch : 109, itr :0, MSE loss : 0.013061953708529472, RMSE loss : 0.11428890377283096\n",
            "val_loss : 0.008741844445466995, rmse : 0.09349783123402915\n",
            "\n",
            "epoch : 110, itr :0, MSE loss : 0.013476492837071419, RMSE loss : 0.11608830094337463\n",
            "val_loss : 0.01440154667943716, rmse : 0.120006444324616\n",
            "\n",
            "epoch : 111, itr :0, MSE loss : 0.013482293114066124, RMSE loss : 0.11611327528953552\n",
            "val_loss : 0.008569949306547642, rmse : 0.09257402068910933\n",
            "\n",
            "epoch : 112, itr :0, MSE loss : 0.011906800791621208, RMSE loss : 0.10911829024553299\n",
            "val_loss : 0.009568369016051292, rmse : 0.09781804034047754\n",
            "\n",
            "epoch : 113, itr :0, MSE loss : 0.011763022281229496, RMSE loss : 0.10845746845006943\n",
            "val_loss : 0.010159557685256004, rmse : 0.10079463123230327\n",
            "\n",
            "epoch : 114, itr :0, MSE loss : 0.012476611882448196, RMSE loss : 0.11169875413179398\n",
            "val_loss : 0.01270515937358141, rmse : 0.11271716539011\n",
            "\n",
            "epoch : 115, itr :0, MSE loss : 0.012688660994172096, RMSE loss : 0.11264395713806152\n",
            "val_loss : 0.00836971029639244, rmse : 0.09148612078557294\n",
            "\n",
            "epoch : 116, itr :0, MSE loss : 0.013464336283504963, RMSE loss : 0.11603592336177826\n",
            "val_loss : 0.009074032306671143, rmse : 0.0952577152081192\n",
            "\n",
            "epoch : 117, itr :0, MSE loss : 0.01287146843969822, RMSE loss : 0.1134524941444397\n",
            "val_loss : 0.005453886929899454, rmse : 0.07385043622010268\n",
            "\n",
            "epoch : 118, itr :0, MSE loss : 0.01079854741692543, RMSE loss : 0.10391605645418167\n",
            "val_loss : 0.011690891347825527, rmse : 0.10812442530633644\n",
            "\n",
            "epoch : 119, itr :0, MSE loss : 0.012044497765600681, RMSE loss : 0.10974742472171783\n",
            "val_loss : 0.008037948049604893, rmse : 0.08965460417404615\n",
            "\n",
            "epoch : 120, itr :0, MSE loss : 0.010963449254631996, RMSE loss : 0.10470648854970932\n",
            "val_loss : 0.007380496244877577, rmse : 0.08590981460157843\n",
            "\n",
            "epoch : 121, itr :0, MSE loss : 0.012050230987370014, RMSE loss : 0.10977354645729065\n",
            "val_loss : 0.008943061344325542, rmse : 0.09456776059696848\n",
            "\n",
            "epoch : 122, itr :0, MSE loss : 0.010732107795774937, RMSE loss : 0.10359589010477066\n",
            "val_loss : 0.010464286431670189, rmse : 0.10229509485635266\n",
            "\n",
            "epoch : 123, itr :0, MSE loss : 0.010550687089562416, RMSE loss : 0.10271653532981873\n",
            "val_loss : 0.005661549977958202, rmse : 0.07524327197801942\n",
            "\n",
            "epoch : 124, itr :0, MSE loss : 0.009344474412500858, RMSE loss : 0.09666682034730911\n",
            "val_loss : 0.006009943783283234, rmse : 0.07752382719708331\n",
            "\n",
            "epoch : 125, itr :0, MSE loss : 0.010725526139140129, RMSE loss : 0.10356411337852478\n",
            "val_loss : 0.007228432223200798, rmse : 0.08502018715105723\n",
            "\n",
            "epoch : 126, itr :0, MSE loss : 0.0095300218090415, RMSE loss : 0.09762182831764221\n",
            "val_loss : 0.007380879018455744, rmse : 0.08591204233665815\n",
            "\n",
            "epoch : 127, itr :0, MSE loss : 0.009694814682006836, RMSE loss : 0.09846224635839462\n",
            "val_loss : 0.006242084316909313, rmse : 0.07900686246718897\n",
            "\n",
            "epoch : 128, itr :0, MSE loss : 0.011184914968907833, RMSE loss : 0.10575875639915466\n",
            "val_loss : 0.005435333587229252, rmse : 0.07372471490096962\n",
            "\n",
            "epoch : 129, itr :0, MSE loss : 0.010113159194588661, RMSE loss : 0.10056420415639877\n",
            "val_loss : 0.00903852004557848, rmse : 0.09507113150467117\n",
            "\n",
            "epoch : 130, itr :0, MSE loss : 0.008970299735665321, RMSE loss : 0.09471166878938675\n",
            "val_loss : 0.0054030949249863625, rmse : 0.07350574756429841\n",
            "\n",
            "epoch : 131, itr :0, MSE loss : 0.008975950069725513, RMSE loss : 0.09474149346351624\n",
            "val_loss : 0.0063756187446415424, rmse : 0.0798474717485879\n",
            "\n",
            "epoch : 132, itr :0, MSE loss : 0.009426313452422619, RMSE loss : 0.09708920121192932\n",
            "val_loss : 0.005376571323722601, rmse : 0.07332510704883151\n",
            "\n",
            "epoch : 133, itr :0, MSE loss : 0.009133422747254372, RMSE loss : 0.0955689400434494\n",
            "val_loss : 0.006046435330063105, rmse : 0.07775882798797255\n",
            "\n",
            "epoch : 134, itr :0, MSE loss : 0.008108988404273987, RMSE loss : 0.09004992246627808\n",
            "val_loss : 0.005929483100771904, rmse : 0.07700313695410015\n",
            "\n",
            "epoch : 135, itr :0, MSE loss : 0.008659066632390022, RMSE loss : 0.09305410832166672\n",
            "val_loss : 0.005879903677850962, rmse : 0.076680529978939\n",
            "\n",
            "epoch : 136, itr :0, MSE loss : 0.008576804772019386, RMSE loss : 0.09261103719472885\n",
            "val_loss : 0.00558154471218586, rmse : 0.07470973639483584\n",
            "\n",
            "epoch : 137, itr :0, MSE loss : 0.00849689356982708, RMSE loss : 0.0921785980463028\n",
            "val_loss : 0.004967220593243837, rmse : 0.07047851157085994\n",
            "\n",
            "epoch : 138, itr :0, MSE loss : 0.008197293616831303, RMSE loss : 0.09053890407085419\n",
            "val_loss : 0.004866218194365501, rmse : 0.06975828405548334\n",
            "\n",
            "epoch : 139, itr :0, MSE loss : 0.008803680539131165, RMSE loss : 0.09382793307304382\n",
            "val_loss : 0.0040990570560097694, rmse : 0.06402387879541327\n",
            "\n",
            "epoch : 140, itr :0, MSE loss : 0.008975828066468239, RMSE loss : 0.0947408452630043\n",
            "val_loss : 0.004856919404119253, rmse : 0.06969160210613079\n",
            "\n",
            "epoch : 141, itr :0, MSE loss : 0.008312661200761795, RMSE loss : 0.09117379784584045\n",
            "val_loss : 0.003512610448524356, rmse : 0.059267279746284596\n",
            "\n",
            "epoch : 142, itr :0, MSE loss : 0.00830638874322176, RMSE loss : 0.09113939106464386\n",
            "val_loss : 0.0034567750990390778, rmse : 0.05879434580841152\n",
            "\n",
            "epoch : 143, itr :0, MSE loss : 0.007619517855346203, RMSE loss : 0.08728984743356705\n",
            "val_loss : 0.0036377080250531435, rmse : 0.0603134149675936\n",
            "\n",
            "epoch : 144, itr :0, MSE loss : 0.008476086892187595, RMSE loss : 0.09206566959619522\n",
            "val_loss : 0.005134885665029287, rmse : 0.07165811653280657\n",
            "\n",
            "epoch : 145, itr :0, MSE loss : 0.007446617353707552, RMSE loss : 0.0862937867641449\n",
            "val_loss : 0.005401333328336477, rmse : 0.07349376387379053\n",
            "\n",
            "epoch : 146, itr :0, MSE loss : 0.007260081823915243, RMSE loss : 0.08520611375570297\n",
            "val_loss : 0.004436155781149864, rmse : 0.06660447268126866\n",
            "\n",
            "epoch : 147, itr :0, MSE loss : 0.006823160219937563, RMSE loss : 0.08260241895914078\n",
            "val_loss : 0.005203667562454939, rmse : 0.07213645099708564\n",
            "\n",
            "epoch : 148, itr :0, MSE loss : 0.007383701857179403, RMSE loss : 0.08592846989631653\n",
            "val_loss : 0.002285985741764307, rmse : 0.0478119832444159\n",
            "\n",
            "epoch : 149, itr :0, MSE loss : 0.007696595508605242, RMSE loss : 0.08773024380207062\n",
            "val_loss : 0.003018931020051241, rmse : 0.054944799754401155\n",
            "\n",
            "epoch : 150, itr :0, MSE loss : 0.007523160427808762, RMSE loss : 0.08673615753650665\n",
            "val_loss : 0.0034940727055072784, rmse : 0.05911068182238535\n",
            "\n",
            "epoch : 151, itr :0, MSE loss : 0.007021999917924404, RMSE loss : 0.08379737287759781\n",
            "val_loss : 0.003485428635030985, rmse : 0.059037518875973985\n",
            "\n",
            "epoch : 152, itr :0, MSE loss : 0.006933241616934538, RMSE loss : 0.08326608687639236\n",
            "val_loss : 0.004016163758933544, rmse : 0.06337321010437726\n",
            "\n",
            "epoch : 153, itr :0, MSE loss : 0.007442271336913109, RMSE loss : 0.0862685963511467\n",
            "val_loss : 0.004923391155898571, rmse : 0.07016688076221267\n",
            "\n",
            "epoch : 154, itr :0, MSE loss : 0.007491088472306728, RMSE loss : 0.08655107766389847\n",
            "val_loss : 0.0036105664912611246, rmse : 0.0600879895757973\n",
            "\n",
            "epoch : 155, itr :0, MSE loss : 0.007016455754637718, RMSE loss : 0.08376428484916687\n",
            "val_loss : 0.003411188255995512, rmse : 0.05840537865638328\n",
            "\n",
            "epoch : 156, itr :0, MSE loss : 0.006859847344458103, RMSE loss : 0.08282419294118881\n",
            "val_loss : 0.0024153762497007847, rmse : 0.04914647749026155\n",
            "\n",
            "epoch : 157, itr :0, MSE loss : 0.006690328009426594, RMSE loss : 0.08179442584514618\n",
            "val_loss : 0.0026739886961877346, rmse : 0.051710624596766716\n",
            "\n",
            "epoch : 158, itr :0, MSE loss : 0.007165668066591024, RMSE loss : 0.08465027064085007\n",
            "val_loss : 0.0032553367782384157, rmse : 0.05705555869710169\n",
            "\n",
            "epoch : 159, itr :0, MSE loss : 0.0074852085672318935, RMSE loss : 0.0865171030163765\n",
            "val_loss : 0.0025327508337795734, rmse : 0.05032644268950045\n",
            "\n",
            "epoch : 160, itr :0, MSE loss : 0.007220430765300989, RMSE loss : 0.08497311919927597\n",
            "val_loss : 0.0038893744349479675, rmse : 0.062364849354006845\n",
            "\n",
            "epoch : 161, itr :0, MSE loss : 0.006558819208294153, RMSE loss : 0.08098653703927994\n",
            "val_loss : 0.0033909243065863848, rmse : 0.05823164351610201\n",
            "\n",
            "epoch : 162, itr :0, MSE loss : 0.007411282509565353, RMSE loss : 0.08608880639076233\n",
            "val_loss : 0.0026788318064063787, rmse : 0.051757432378416714\n",
            "\n",
            "epoch : 163, itr :0, MSE loss : 0.007316574454307556, RMSE loss : 0.08553697913885117\n",
            "val_loss : 0.004102583508938551, rmse : 0.06405141301281769\n",
            "\n",
            "epoch : 164, itr :0, MSE loss : 0.005870005581527948, RMSE loss : 0.07661595940589905\n",
            "val_loss : 0.003922350239008665, rmse : 0.06262866946541867\n",
            "\n",
            "epoch : 165, itr :0, MSE loss : 0.007329815533012152, RMSE loss : 0.08561433851718903\n",
            "val_loss : 0.002928034169599414, rmse : 0.054111312769137415\n",
            "\n",
            "epoch : 166, itr :0, MSE loss : 0.006852566264569759, RMSE loss : 0.08278022706508636\n",
            "val_loss : 0.002926246728748083, rmse : 0.054094793915386005\n",
            "\n",
            "epoch : 167, itr :0, MSE loss : 0.006166284903883934, RMSE loss : 0.07852569222450256\n",
            "val_loss : 0.0018464307067915797, rmse : 0.04297011411192179\n",
            "\n",
            "epoch : 168, itr :0, MSE loss : 0.006177157629281282, RMSE loss : 0.07859489321708679\n",
            "val_loss : 0.0020484966225922108, rmse : 0.04526032061963559\n",
            "\n",
            "epoch : 169, itr :0, MSE loss : 0.005816263612359762, RMSE loss : 0.07626443356275558\n",
            "val_loss : 0.002150051761418581, rmse : 0.04636865063185019\n",
            "\n",
            "epoch : 170, itr :0, MSE loss : 0.005995456594973803, RMSE loss : 0.07743033021688461\n",
            "val_loss : 0.0020713319536298513, rmse : 0.045511888047298714\n",
            "\n",
            "epoch : 171, itr :0, MSE loss : 0.00609085476025939, RMSE loss : 0.07804393023252487\n",
            "val_loss : 0.002964656800031662, rmse : 0.0544486620591513\n",
            "\n",
            "epoch : 172, itr :0, MSE loss : 0.0058145890943706036, RMSE loss : 0.07625345140695572\n",
            "val_loss : 0.002459110226482153, rmse : 0.04958941647652403\n",
            "\n",
            "epoch : 173, itr :0, MSE loss : 0.006331906653940678, RMSE loss : 0.07957328110933304\n",
            "val_loss : 0.0023682850878685713, rmse : 0.04866502941403171\n",
            "\n",
            "epoch : 174, itr :0, MSE loss : 0.00660249637439847, RMSE loss : 0.08125574886798859\n",
            "val_loss : 0.0034963504876941442, rmse : 0.05912994577787252\n",
            "\n",
            "epoch : 175, itr :0, MSE loss : 0.007243044208735228, RMSE loss : 0.08510607481002808\n",
            "val_loss : 0.0019823177717626095, rmse : 0.04452322732869451\n",
            "\n",
            "epoch : 176, itr :0, MSE loss : 0.005320052150636911, RMSE loss : 0.07293868809938431\n",
            "val_loss : 0.0026959930546581745, rmse : 0.05192295306180278\n",
            "\n",
            "epoch : 177, itr :0, MSE loss : 0.006483793258666992, RMSE loss : 0.08052200824022293\n",
            "val_loss : 0.002735164947807789, rmse : 0.05229880445868518\n",
            "\n",
            "epoch : 178, itr :0, MSE loss : 0.005700869485735893, RMSE loss : 0.07550410181283951\n",
            "val_loss : 0.0030077798292040825, rmse : 0.05484322956577305\n",
            "\n",
            "epoch : 179, itr :0, MSE loss : 0.007015252485871315, RMSE loss : 0.08375710248947144\n",
            "val_loss : 0.0028379724826663733, rmse : 0.05327262413910519\n",
            "\n",
            "epoch : 180, itr :0, MSE loss : 0.006114208605140448, RMSE loss : 0.07819340378046036\n",
            "val_loss : 0.0018252419540658593, rmse : 0.04272285049087735\n",
            "\n",
            "epoch : 181, itr :0, MSE loss : 0.005105175077915192, RMSE loss : 0.07145050913095474\n",
            "val_loss : 0.004318246617913246, rmse : 0.06571336711745371\n",
            "\n",
            "epoch : 182, itr :0, MSE loss : 0.006651343312114477, RMSE loss : 0.08155576884746552\n",
            "val_loss : 0.0021432465873658657, rmse : 0.04629521127898506\n",
            "\n",
            "epoch : 183, itr :0, MSE loss : 0.005427882075309753, RMSE loss : 0.07367416471242905\n",
            "val_loss : 0.002058439189568162, rmse : 0.04537002523217462\n",
            "\n",
            "epoch : 184, itr :0, MSE loss : 0.0056597101502120495, RMSE loss : 0.07523104548454285\n",
            "val_loss : 0.004106202162802219, rmse : 0.06407965482742724\n",
            "\n",
            "epoch : 185, itr :0, MSE loss : 0.005962130147963762, RMSE loss : 0.07721482962369919\n",
            "val_loss : 0.0025479013565927744, rmse : 0.0504767407485148\n",
            "\n",
            "epoch : 186, itr :0, MSE loss : 0.00579633517190814, RMSE loss : 0.07613366842269897\n",
            "val_loss : 0.0023148490581661463, rmse : 0.04811287829849869\n",
            "\n",
            "epoch : 187, itr :0, MSE loss : 0.005532219540327787, RMSE loss : 0.07437889277935028\n",
            "val_loss : 0.00233825808390975, rmse : 0.048355538296142975\n",
            "\n",
            "epoch : 188, itr :0, MSE loss : 0.005415698979049921, RMSE loss : 0.0735914334654808\n",
            "val_loss : 0.00471684942021966, rmse : 0.06867932309086673\n",
            "\n",
            "epoch : 189, itr :0, MSE loss : 0.006318164523690939, RMSE loss : 0.07948688417673111\n",
            "val_loss : 0.002648914698511362, rmse : 0.05146760824549128\n",
            "\n",
            "epoch : 190, itr :0, MSE loss : 0.00606138538569212, RMSE loss : 0.07785490155220032\n",
            "val_loss : 0.0016897482564672828, rmse : 0.04110654761065788\n",
            "\n",
            "epoch : 191, itr :0, MSE loss : 0.005179793573915958, RMSE loss : 0.07197078317403793\n",
            "val_loss : 0.003843977116048336, rmse : 0.06199981545172805\n",
            "\n",
            "epoch : 192, itr :0, MSE loss : 0.005390262231230736, RMSE loss : 0.07341840863227844\n",
            "val_loss : 0.0019482603529468179, rmse : 0.044139102312426085\n",
            "\n",
            "epoch : 193, itr :0, MSE loss : 0.004969798494130373, RMSE loss : 0.07049679756164551\n",
            "val_loss : 0.0017806102987378836, rmse : 0.04219727833329874\n",
            "\n",
            "epoch : 194, itr :0, MSE loss : 0.005456075072288513, RMSE loss : 0.07386524975299835\n",
            "val_loss : 0.003345260163769126, rmse : 0.0578382240717082\n",
            "\n",
            "epoch : 195, itr :0, MSE loss : 0.005813914351165295, RMSE loss : 0.07624902576208115\n",
            "val_loss : 0.0024761974345892668, rmse : 0.04976140507048878\n",
            "\n",
            "epoch : 196, itr :0, MSE loss : 0.004893773701041937, RMSE loss : 0.06995551288127899\n",
            "val_loss : 0.0018119675805792212, rmse : 0.04256721250656685\n",
            "\n",
            "epoch : 197, itr :0, MSE loss : 0.005721277557313442, RMSE loss : 0.07563912868499756\n",
            "val_loss : 0.002394870389252901, rmse : 0.04893741298079519\n",
            "\n",
            "epoch : 198, itr :0, MSE loss : 0.005138472653925419, RMSE loss : 0.0716831386089325\n",
            "val_loss : 0.0024424048606306314, rmse : 0.049420692636087483\n",
            "\n",
            "epoch : 199, itr :0, MSE loss : 0.0051903799176216125, RMSE loss : 0.07204429060220718\n",
            "val_loss : 0.0011233784025534987, rmse : 0.0335168375977433\n",
            "\n",
            "epoch : 200, itr :0, MSE loss : 0.00469661271199584, RMSE loss : 0.068531833589077\n",
            "val_loss : 0.001518484321422875, rmse : 0.03896773436348173\n",
            "\n",
            "epoch : 201, itr :0, MSE loss : 0.004663372412323952, RMSE loss : 0.0682888925075531\n",
            "val_loss : 0.0030907278414815664, rmse : 0.05559431483057927\n",
            "\n",
            "epoch : 202, itr :0, MSE loss : 0.006275603082031012, RMSE loss : 0.07921870052814484\n",
            "val_loss : 0.002009439980611205, rmse : 0.044826777495278476\n",
            "\n",
            "epoch : 203, itr :0, MSE loss : 0.006906785536557436, RMSE loss : 0.08310706913471222\n",
            "val_loss : 0.0015737131470814347, rmse : 0.039670053530105484\n",
            "\n",
            "epoch : 204, itr :0, MSE loss : 0.004664946813136339, RMSE loss : 0.06830041855573654\n",
            "val_loss : 0.004510782193392515, rmse : 0.06716235696722171\n",
            "\n",
            "epoch : 205, itr :0, MSE loss : 0.006219268310815096, RMSE loss : 0.07886233925819397\n",
            "val_loss : 0.0016428350936621428, rmse : 0.04053190217177258\n",
            "\n",
            "epoch : 206, itr :0, MSE loss : 0.0050261178985238075, RMSE loss : 0.07089512050151825\n",
            "val_loss : 0.001039195922203362, rmse : 0.032236561885588266\n",
            "\n",
            "epoch : 207, itr :0, MSE loss : 0.005014671944081783, RMSE loss : 0.070814348757267\n",
            "val_loss : 0.002106964588165283, rmse : 0.04590168393605275\n",
            "\n",
            "epoch : 208, itr :0, MSE loss : 0.005265361629426479, RMSE loss : 0.0725628137588501\n",
            "val_loss : 0.001496942713856697, rmse : 0.03869034393562168\n",
            "\n",
            "epoch : 209, itr :0, MSE loss : 0.004287636838853359, RMSE loss : 0.06548004597425461\n",
            "val_loss : 0.0015023044543340802, rmse : 0.038759572421971845\n",
            "\n",
            "epoch : 210, itr :0, MSE loss : 0.004664530046284199, RMSE loss : 0.0682973638176918\n",
            "val_loss : 0.0033610379323363304, rmse : 0.05797445931042678\n",
            "\n",
            "epoch : 211, itr :0, MSE loss : 0.005828346591442823, RMSE loss : 0.0763436108827591\n",
            "val_loss : 0.0015201802598312497, rmse : 0.038989489094257826\n",
            "\n",
            "epoch : 212, itr :0, MSE loss : 0.004584130365401506, RMSE loss : 0.06770620495080948\n",
            "val_loss : 0.0012732892064377666, rmse : 0.035683178199787176\n",
            "\n",
            "epoch : 213, itr :0, MSE loss : 0.004959556739777327, RMSE loss : 0.07042411714792252\n",
            "val_loss : 0.003930548205971718, rmse : 0.06269408429805573\n",
            "\n",
            "epoch : 214, itr :0, MSE loss : 0.004771033767610788, RMSE loss : 0.0690726712346077\n",
            "val_loss : 0.001355597865767777, rmse : 0.03681844464080167\n",
            "\n",
            "epoch : 215, itr :0, MSE loss : 0.004749583080410957, RMSE loss : 0.06891722232103348\n",
            "val_loss : 0.0018312842585146427, rmse : 0.042793507200446224\n",
            "\n",
            "epoch : 216, itr :0, MSE loss : 0.004818478133529425, RMSE loss : 0.06941525638103485\n",
            "val_loss : 0.003876347094774246, rmse : 0.062260317175342486\n",
            "\n",
            "epoch : 217, itr :0, MSE loss : 0.004857982043176889, RMSE loss : 0.069699227809906\n",
            "val_loss : 0.001107958029024303, rmse : 0.03328600350033484\n",
            "\n",
            "epoch : 218, itr :0, MSE loss : 0.003942681476473808, RMSE loss : 0.06279077380895615\n",
            "val_loss : 0.0014807847328484058, rmse : 0.03848096585129336\n",
            "\n",
            "epoch : 219, itr :0, MSE loss : 0.005666924174875021, RMSE loss : 0.07527897506952286\n",
            "val_loss : 0.002794105326756835, rmse : 0.05285929744857412\n",
            "\n",
            "epoch : 220, itr :0, MSE loss : 0.005385950207710266, RMSE loss : 0.07338903099298477\n",
            "val_loss : 0.0015281228115782142, rmse : 0.03909121143656479\n",
            "\n",
            "epoch : 221, itr :0, MSE loss : 0.004733232781291008, RMSE loss : 0.0687984973192215\n",
            "val_loss : 0.0017079707467928529, rmse : 0.041327602722549164\n",
            "\n",
            "epoch : 222, itr :0, MSE loss : 0.005177343264222145, RMSE loss : 0.07195375859737396\n",
            "val_loss : 0.0024203197099268436, rmse : 0.0491967449119029\n",
            "\n",
            "epoch : 223, itr :0, MSE loss : 0.004579413216561079, RMSE loss : 0.06767135858535767\n",
            "val_loss : 0.0014788209227845073, rmse : 0.03845544074359969\n",
            "\n",
            "epoch : 224, itr :0, MSE loss : 0.00452787522226572, RMSE loss : 0.06728948652744293\n",
            "val_loss : 0.0012295141350477934, rmse : 0.035064428343376614\n",
            "\n",
            "epoch : 225, itr :0, MSE loss : 0.004989222157746553, RMSE loss : 0.07063442468643188\n",
            "val_loss : 0.002873953664675355, rmse : 0.05360926845868497\n",
            "\n",
            "epoch : 226, itr :0, MSE loss : 0.004882978741079569, RMSE loss : 0.06987831741571426\n",
            "val_loss : 0.001378277433104813, rmse : 0.03712515903137403\n",
            "\n",
            "epoch : 227, itr :0, MSE loss : 0.004040731582790613, RMSE loss : 0.06356675177812576\n",
            "val_loss : 0.0010200736578553915, rmse : 0.03193859198298184\n",
            "\n",
            "epoch : 228, itr :0, MSE loss : 0.004502309951931238, RMSE loss : 0.06709925085306168\n",
            "val_loss : 0.002153607551008463, rmse : 0.046406977395737195\n",
            "\n",
            "epoch : 229, itr :0, MSE loss : 0.003958937246352434, RMSE loss : 0.06292008608579636\n",
            "val_loss : 0.0011373055167496204, rmse : 0.03372396057330189\n",
            "\n",
            "epoch : 230, itr :0, MSE loss : 0.004147547762840986, RMSE loss : 0.06440145522356033\n",
            "val_loss : 0.001552298665046692, rmse : 0.0393992216299598\n",
            "\n",
            "epoch : 231, itr :0, MSE loss : 0.00417985999956727, RMSE loss : 0.06465183943510056\n",
            "val_loss : 0.0016297424444928765, rmse : 0.04037006867089622\n",
            "\n",
            "epoch : 232, itr :0, MSE loss : 0.004469356033951044, RMSE loss : 0.06685324013233185\n",
            "val_loss : 0.001484346343204379, rmse : 0.03852721561707229\n",
            "\n",
            "epoch : 233, itr :0, MSE loss : 0.0044418745674192905, RMSE loss : 0.06664738804101944\n",
            "val_loss : 0.0020340362098068, rmse : 0.0451002905734187\n",
            "\n",
            "epoch : 234, itr :0, MSE loss : 0.0046811457723379135, RMSE loss : 0.06841889768838882\n",
            "val_loss : 0.0014946602750569582, rmse : 0.03866083645056012\n",
            "\n",
            "epoch : 235, itr :0, MSE loss : 0.004120146855711937, RMSE loss : 0.06418836861848831\n",
            "val_loss : 0.0010448656976222992, rmse : 0.032324382401250906\n",
            "\n",
            "epoch : 236, itr :0, MSE loss : 0.0043046739883720875, RMSE loss : 0.06561001390218735\n",
            "val_loss : 0.0023731281980872154, rmse : 0.04871476365627997\n",
            "\n",
            "epoch : 237, itr :0, MSE loss : 0.0048271650448441505, RMSE loss : 0.06947780400514603\n",
            "val_loss : 0.0009656866313889623, rmse : 0.031075498892036507\n",
            "\n",
            "epoch : 238, itr :0, MSE loss : 0.004421217832714319, RMSE loss : 0.0664922371506691\n",
            "val_loss : 0.0009171983110718429, rmse : 0.03028528208671405\n",
            "\n",
            "epoch : 239, itr :0, MSE loss : 0.004310312680900097, RMSE loss : 0.06565297394990921\n",
            "val_loss : 0.0033034479711204767, rmse : 0.057475629366893204\n",
            "\n",
            "epoch : 240, itr :0, MSE loss : 0.004408116452395916, RMSE loss : 0.0663936510682106\n",
            "val_loss : 0.0012523324694484472, rmse : 0.03538830978513169\n",
            "\n",
            "epoch : 241, itr :0, MSE loss : 0.00488052936270833, RMSE loss : 0.0698607861995697\n",
            "val_loss : 0.002041923115029931, rmse : 0.04518764338876206\n",
            "\n",
            "epoch : 242, itr :0, MSE loss : 0.0043059783056378365, RMSE loss : 0.06561995297670364\n",
            "val_loss : 0.0012306112330406904, rmse : 0.03508006888591712\n",
            "\n",
            "epoch : 243, itr :0, MSE loss : 0.003914963454008102, RMSE loss : 0.06256967037916183\n",
            "val_loss : 0.0009613281581550837, rmse : 0.031005292421699294\n",
            "\n",
            "epoch : 244, itr :0, MSE loss : 0.004691929556429386, RMSE loss : 0.0684976577758789\n",
            "val_loss : 0.002466800156980753, rmse : 0.04966689196014537\n",
            "\n",
            "epoch : 245, itr :0, MSE loss : 0.005082352552562952, RMSE loss : 0.07129061967134476\n",
            "val_loss : 0.0008863772382028401, rmse : 0.02977208824054571\n",
            "\n",
            "epoch : 246, itr :0, MSE loss : 0.004409228917211294, RMSE loss : 0.06640202552080154\n",
            "val_loss : 0.001167929614894092, rmse : 0.03417498522156363\n",
            "\n",
            "epoch : 247, itr :0, MSE loss : 0.0032199216075241566, RMSE loss : 0.056744351983070374\n",
            "val_loss : 0.0028856839053332806, rmse : 0.053718562018479986\n",
            "\n",
            "epoch : 248, itr :0, MSE loss : 0.004624076187610626, RMSE loss : 0.06800056248903275\n",
            "val_loss : 0.001985155511647463, rmse : 0.04455508401571546\n",
            "\n",
            "epoch : 249, itr :0, MSE loss : 0.006311918143182993, RMSE loss : 0.07944758236408234\n",
            "val_loss : 0.004118893761187792, rmse : 0.06417860828335085\n",
            "\n",
            "epoch : 250, itr :0, MSE loss : 0.00555031094700098, RMSE loss : 0.07450041174888611\n",
            "val_loss : 0.0013523540692403913, rmse : 0.03677436701345641\n",
            "\n",
            "epoch : 251, itr :0, MSE loss : 0.0051073599606752396, RMSE loss : 0.07146579772233963\n",
            "val_loss : 0.0009847404435276985, rmse : 0.0313805743020694\n",
            "\n",
            "epoch : 252, itr :0, MSE loss : 0.004273790866136551, RMSE loss : 0.06537424027919769\n",
            "val_loss : 0.003772588213905692, rmse : 0.06142139866451831\n",
            "\n",
            "epoch : 253, itr :0, MSE loss : 0.005155816674232483, RMSE loss : 0.07180401682853699\n",
            "val_loss : 0.0016490828711539507, rmse : 0.040608901378317915\n",
            "\n",
            "epoch : 254, itr :0, MSE loss : 0.004678769502788782, RMSE loss : 0.0684015303850174\n",
            "val_loss : 0.001292071072384715, rmse : 0.03594539014094457\n",
            "\n",
            "epoch : 255, itr :0, MSE loss : 0.0038250088691711426, RMSE loss : 0.06184665486216545\n",
            "val_loss : 0.0033844735007733107, rmse : 0.058176227969620985\n",
            "\n",
            "epoch : 256, itr :0, MSE loss : 0.005510596092790365, RMSE loss : 0.07423339039087296\n",
            "val_loss : 0.0023048678413033485, rmse : 0.048009039162467605\n",
            "\n",
            "epoch : 257, itr :0, MSE loss : 0.006900484673678875, RMSE loss : 0.08306915313005447\n",
            "val_loss : 0.0026033527683466673, rmse : 0.05102306114245467\n",
            "\n",
            "epoch : 258, itr :0, MSE loss : 0.004249510820955038, RMSE loss : 0.06518827378749847\n",
            "val_loss : 0.0022467016242444515, rmse : 0.04739938421798802\n",
            "\n",
            "epoch : 259, itr :0, MSE loss : 0.00423865020275116, RMSE loss : 0.06510491669178009\n",
            "val_loss : 0.0012619701446965337, rmse : 0.03552421912859639\n",
            "\n",
            "epoch : 260, itr :0, MSE loss : 0.006459682248532772, RMSE loss : 0.0803721472620964\n",
            "val_loss : 0.0029551400803029537, rmse : 0.054361200136705534\n",
            "\n",
            "epoch : 261, itr :0, MSE loss : 0.004199712537229061, RMSE loss : 0.06480518728494644\n",
            "val_loss : 0.002152005909010768, rmse : 0.04638971770781504\n",
            "\n",
            "epoch : 262, itr :0, MSE loss : 0.003470605006441474, RMSE loss : 0.05891184136271477\n",
            "val_loss : 0.0008811169536784291, rmse : 0.029683614228702495\n",
            "\n",
            "epoch : 263, itr :0, MSE loss : 0.005001502577215433, RMSE loss : 0.07072129845619202\n",
            "val_loss : 0.003416441846638918, rmse : 0.058450336582768436\n",
            "\n",
            "epoch : 264, itr :0, MSE loss : 0.004189095459878445, RMSE loss : 0.06472322344779968\n",
            "val_loss : 0.0014430285664275289, rmse : 0.03798721582884864\n",
            "\n",
            "epoch : 265, itr :0, MSE loss : 0.00373378349468112, RMSE loss : 0.06110469251871109\n",
            "val_loss : 0.0014811408473178744, rmse : 0.038485592724003544\n",
            "\n",
            "epoch : 266, itr :0, MSE loss : 0.004211564548313618, RMSE loss : 0.06489656865596771\n",
            "val_loss : 0.002305581932887435, rmse : 0.048016475640007515\n",
            "\n",
            "epoch : 267, itr :0, MSE loss : 0.004069475922733545, RMSE loss : 0.06379244476556778\n",
            "val_loss : 0.000943093269597739, rmse : 0.030709823666015067\n",
            "\n",
            "epoch : 268, itr :0, MSE loss : 0.00358998728916049, RMSE loss : 0.059916503727436066\n",
            "val_loss : 0.0012234729947522283, rmse : 0.034978178836986756\n",
            "\n",
            "epoch : 269, itr :0, MSE loss : 0.0036310553550720215, RMSE loss : 0.06025823950767517\n",
            "val_loss : 0.0018306819256395102, rmse : 0.042786468955027246\n",
            "\n",
            "epoch : 270, itr :0, MSE loss : 0.004908693954348564, RMSE loss : 0.0700620710849762\n",
            "val_loss : 0.0010545637924224138, rmse : 0.03247404798331144\n",
            "\n",
            "epoch : 271, itr :0, MSE loss : 0.004417666234076023, RMSE loss : 0.06646552681922913\n",
            "val_loss : 0.0012688427232205868, rmse : 0.03562081867701228\n",
            "\n",
            "epoch : 272, itr :0, MSE loss : 0.003652182873338461, RMSE loss : 0.060433290898799896\n",
            "val_loss : 0.0012016406981274486, rmse : 0.034664689499942856\n",
            "\n",
            "epoch : 273, itr :0, MSE loss : 0.0037490760441869497, RMSE loss : 0.06122969835996628\n",
            "val_loss : 0.001364727271720767, rmse : 0.03694221530607994\n",
            "\n",
            "epoch : 274, itr :0, MSE loss : 0.004950446542352438, RMSE loss : 0.07035940885543823\n",
            "val_loss : 0.0019342416198924184, rmse : 0.04398001386871562\n",
            "\n",
            "epoch : 275, itr :0, MSE loss : 0.0039560007862746716, RMSE loss : 0.0628967434167862\n",
            "val_loss : 0.0019312783842906356, rmse : 0.04394631252210628\n",
            "\n",
            "epoch : 276, itr :0, MSE loss : 0.004454624839127064, RMSE loss : 0.06674297899007797\n",
            "val_loss : 0.0013415624853223562, rmse : 0.03662734614085979\n",
            "\n",
            "epoch : 277, itr :0, MSE loss : 0.004494257736951113, RMSE loss : 0.06703922897577286\n",
            "val_loss : 0.0017352866707369685, rmse : 0.04165677220737306\n",
            "\n",
            "epoch : 278, itr :0, MSE loss : 0.005511662922799587, RMSE loss : 0.07424057275056839\n",
            "val_loss : 0.0008422028622590005, rmse : 0.029020731594138018\n",
            "\n",
            "epoch : 279, itr :0, MSE loss : 0.00373531854711473, RMSE loss : 0.061117254197597504\n",
            "val_loss : 0.0013881014892831445, rmse : 0.03725723405304189\n",
            "\n",
            "epoch : 280, itr :0, MSE loss : 0.003818289842456579, RMSE loss : 0.06179231032729149\n",
            "val_loss : 0.0030272628646343946, rmse : 0.0550205676509648\n",
            "\n",
            "epoch : 281, itr :0, MSE loss : 0.005097818560898304, RMSE loss : 0.0713990107178688\n",
            "val_loss : 0.0010118745267391205, rmse : 0.03180997527096053\n",
            "\n",
            "epoch : 282, itr :0, MSE loss : 0.00468046311289072, RMSE loss : 0.06841391324996948\n",
            "val_loss : 0.0013780443696305156, rmse : 0.037122020010103375\n",
            "\n",
            "epoch : 283, itr :0, MSE loss : 0.004380452446639538, RMSE loss : 0.06618499010801315\n",
            "val_loss : 0.0009082987089641392, rmse : 0.030137994441636944\n",
            "\n",
            "epoch : 284, itr :0, MSE loss : 0.0034534656442701817, RMSE loss : 0.0587661936879158\n",
            "val_loss : 0.0006756943766959012, rmse : 0.025994121964319186\n",
            "\n",
            "epoch : 285, itr :0, MSE loss : 0.0038462590891867876, RMSE loss : 0.06201821565628052\n",
            "val_loss : 0.0032512934412807226, rmse : 0.057020114356959355\n",
            "\n",
            "epoch : 286, itr :0, MSE loss : 0.004604995716363192, RMSE loss : 0.06786011904478073\n",
            "val_loss : 0.0009603422950021923, rmse : 0.030989390039208455\n",
            "\n",
            "epoch : 287, itr :0, MSE loss : 0.0040444135665893555, RMSE loss : 0.06359570473432541\n",
            "val_loss : 0.0012026093900203705, rmse : 0.03467865899974176\n",
            "\n",
            "epoch : 288, itr :0, MSE loss : 0.003543074708431959, RMSE loss : 0.05952373147010803\n",
            "val_loss : 0.0012937135761603713, rmse : 0.03596823009490975\n",
            "\n",
            "epoch : 289, itr :0, MSE loss : 0.004126972518861294, RMSE loss : 0.06424151360988617\n",
            "val_loss : 0.0009152819984592497, rmse : 0.03025362785616379\n",
            "\n",
            "epoch : 290, itr :0, MSE loss : 0.0042577506974339485, RMSE loss : 0.0652514398097992\n",
            "val_loss : 0.003807404777035117, rmse : 0.06170417147191199\n",
            "\n",
            "epoch : 291, itr :0, MSE loss : 0.005217053461819887, RMSE loss : 0.07222917675971985\n",
            "val_loss : 0.00078425626270473, rmse : 0.028004575745844286\n",
            "\n",
            "epoch : 292, itr :0, MSE loss : 0.004190408159047365, RMSE loss : 0.0647333636879921\n",
            "val_loss : 0.0007797271246090531, rmse : 0.02792359440704318\n",
            "\n",
            "epoch : 293, itr :0, MSE loss : 0.0036134107504040003, RMSE loss : 0.06011165305972099\n",
            "val_loss : 0.0009722181712277234, rmse : 0.031180413262619264\n",
            "\n",
            "epoch : 294, itr :0, MSE loss : 0.004186421632766724, RMSE loss : 0.06470256298780441\n",
            "val_loss : 0.0011819403152912855, rmse : 0.034379358855151525\n",
            "\n",
            "epoch : 295, itr :0, MSE loss : 0.0035677195992320776, RMSE loss : 0.05973039194941521\n",
            "val_loss : 0.0030788269359618425, rmse : 0.0554871781221738\n",
            "\n",
            "epoch : 296, itr :0, MSE loss : 0.004390735644847155, RMSE loss : 0.0662626251578331\n",
            "val_loss : 0.0014968537725508213, rmse : 0.03868919451928175\n",
            "\n",
            "epoch : 297, itr :0, MSE loss : 0.004923857748508453, RMSE loss : 0.07017020881175995\n",
            "val_loss : 0.002771207131445408, rmse : 0.0526422561393925\n",
            "\n",
            "epoch : 298, itr :0, MSE loss : 0.004400753881782293, RMSE loss : 0.0663381814956665\n",
            "val_loss : 0.0008699006284587085, rmse : 0.02949407785401518\n",
            "\n",
            "epoch : 299, itr :0, MSE loss : 0.004446706268936396, RMSE loss : 0.06668362766504288\n",
            "val_loss : 0.0017004808178171515, rmse : 0.04123688661644028\n",
            "\n"
          ]
        }
      ],
      "source": [
        "import matplotlib.pyplot as plt\n",
        "import scipy\n",
        "\n",
        "train_loss_log = []\n",
        "val_loss_log = []\n",
        "\n",
        "best_train_loss = np.inf\n",
        "best_val_loss = np.inf\n",
        "best_both_loss = (np.inf, np.inf)\n",
        "best_train_epoch = 0\n",
        "best_val_epoch = 0\n",
        "best_both_epoch = 0\n",
        "\n",
        "criterion = nn.MSELoss()\n",
        "max_iteration = 0\n",
        "for epoch in range(max_epoch):\n",
        "  tgt_log_train = np.zeros((1,predict_step))\n",
        "  pred_log_train = np.zeros((1,predict_step))\n",
        "\n",
        "  for iter, (x, y, tgt) in enumerate(train_loader):\n",
        "    x, y, tgt = x.to(device), y.to(device), tgt.to(device)\n",
        "    tgt = tgt[:,:,0]\n",
        "    net.train()\n",
        "            \n",
        "    out = net(x, y)\n",
        "    loss = criterion(out, tgt)\n",
        "            \n",
        "    optimizer.zero_grad()\n",
        "    loss.backward()\n",
        "    optimizer.step()\n",
        "    scheduler.step()\n",
        "\n",
        "    train_loss_log.append(loss.item())\n",
        "            \n",
        "    print(\"epoch : {}, itr :{}, MSE loss : {}, RMSE loss : {}\".format(epoch, iter, loss.item(), torch.sqrt(loss).item()))\n",
        "            \n",
        "    out_npy = out.to('cpu').detach().numpy().copy()\n",
        "    tgt_npy = tgt.to('cpu').detach().numpy().copy()\n",
        "\n",
        "    pred_log_train = np.concatenate([pred_log_train, out_npy], axis=0)\n",
        "    tgt_log_train = np.concatenate([tgt_log_train, tgt_npy], axis=0)\n",
        "        \n",
        "  if epoch == 0:\n",
        "    max_iteration = iter + 1\n",
        "        \n",
        "  val_loss = check_data(device, val_loader, net, criterion)\n",
        "  val_loss_log.append(val_loss)# MSE\n",
        "\n",
        "  # print(\"*************validation******************\")\n",
        "  print(\"val_loss : {}, rmse : {}\\n\".format(val_loss, math.sqrt(val_loss)))\n",
        "  \n",
        "  # save low train loss model\n",
        "  if loss < best_train_loss:\n",
        "    best_train_loss = loss\n",
        "    best_train_epoch = epoch\n",
        "    torch.save(net.state_dict(), os.path.join(model_path, \"best_train_loss_model.model\"))\n",
        "\n",
        "  # save low val loss model\n",
        "  if val_loss < best_val_loss:\n",
        "    best_val_loss = val_loss\n",
        "    best_val_epoch = epoch\n",
        "    torch.save(net.state_dict(), os.path.join(model_path, \"best_val_loss_model.model\"))\n",
        "    \n",
        "  # save both loss model\n",
        "  if loss < best_train_loss and val_loss < best_val_loss:\n",
        "    best_both_loss = (loss, val_loss)\n",
        "    best_both_epoch = epoch\n",
        "    torch.save(net.state_dict(), os.path.join(model_path, \"best_both_loss_model.model\"))\n",
        "\n",
        "  # save model\n",
        "  if epoch % save_each == 0 or epoch == max_epoch - 1:\n",
        "    torch.save(net.state_dict(), os.path.join(model_path, '{}_epoch.model'.format(epoch)))"
      ]
    },
    {
      "cell_type": "markdown",
      "metadata": {
        "id": "_JBFZHWPrbaw"
      },
      "source": [
        "Plot"
      ]
    },
    {
      "cell_type": "code",
      "execution_count": null,
      "metadata": {
        "id": "0h6D9jENKpo8"
      },
      "outputs": [],
      "source": [
        "train_loss_np = np.array(train_loss_log)\n",
        "val_loss_np = np.array(val_loss_log)"
      ]
    },
    {
      "cell_type": "code",
      "execution_count": null,
      "metadata": {
        "colab": {
          "base_uri": "https://localhost:8080/"
        },
        "id": "9ChBE5WRkhAU",
        "outputId": "0808b9f8-6845-45d8-f360-2ed7171ff430"
      },
      "outputs": [
        {
          "output_type": "display_data",
          "data": {
            "text/plain": [
              "<Figure size 504x288 with 1 Axes>"
            ],
            "image/png": "[encoded data removed]"
          },
          "metadata": {
            "needs_background": "light"
          }
        }
      ],
      "source": [
        "import matplotlib.pyplot as plt\n",
        "\n",
        "fig, ax = plt.subplots(figsize=(7,4))\n",
        "ax.plot(train_loss_np, label=\"train\")\n",
        "ax.plot(val_loss_np, label=\"validation\")\n",
        "plt.title(\"MSE Loss\")\n",
        "plt.legend()\n",
        "plt.show()"
      ]
    },
    {
      "cell_type": "code",
      "execution_count": null,
      "metadata": {
        "colab": {
          "base_uri": "https://localhost:8080/"
        },
        "id": "8yi2PQ3VLSqk",
        "outputId": "ff16dc83-85a2-43d6-d917-618846c700e9"
      },
      "outputs": [
        {
          "output_type": "execute_result",
          "data": {
            "text/plain": [
              "(247, 284)"
            ]
          },
          "metadata": {},
          "execution_count": 35
        }
      ],
      "source": [
        "best_train_epoch, best_val_epoch"
      ]
    },
    {
      "cell_type": "code",
      "execution_count": null,
      "metadata": {
        "id": "kfFMRTdJUtG1"
      },
      "outputs": [],
      "source": [
        "min_plot = best_val_epoch-50 if best_val_epoch >= 50 else 0\n",
        "max_plot = best_val_epoch+50 "
      ]
    },
    {
      "cell_type": "code",
      "execution_count": null,
      "metadata": {
        "colab": {
          "base_uri": "https://localhost:8080/"
        },
        "id": "khsKyaVOEvKC",
        "outputId": "13397a04-b247-472b-b86c-5d43ff7ace3f"
      },
      "outputs": [
        {
          "output_type": "display_data",
          "data": {
            "text/plain": [
              "<Figure size 504x288 with 1 Axes>"
            ],
            "image/png": "[encoded data removed]"
          },
          "metadata": {
            "needs_background": "light"
          }
        }
      ],
      "source": [
        "import matplotlib.pyplot as plt\n",
        "\n",
        "fig, ax = plt.subplots(figsize=(7,4))\n",
        "ax.plot(train_loss_np[min_plot:max_plot], label=\"train\")\n",
        "ax.plot(val_loss_np[min_plot:max_plot], label = \"validation\")\n",
        "plt.title(\"MSE Loss\")\n",
        "plt.grid(which='both')\n",
        "plt.legend()\n",
        "plt.show()"
      ]
    },
    {
      "cell_type": "markdown",
      "metadata": {
        "id": "rOcXn7SBmieg"
      },
      "source": [
        "## Testing"
      ]
    },
    {
      "cell_type": "markdown",
      "metadata": {
        "id": "nh4kj5HYk-Mc"
      },
      "source": [
        "Load Data"
      ]
    },
    {
      "cell_type": "code",
      "execution_count": null,
      "metadata": {
        "id": "PH5Er3N_aXAx"
      },
      "outputs": [],
      "source": [
        "def make_dataloader(data, input_step, predict_step, batch_size=1):\n",
        "    dataset = CovidDataset(data, input_step, predict_step)\n",
        "    dataloader = torch.utils.data.DataLoader(dataset, batch_size=batch_size, shuffle=False)\n",
        "    return dataset, dataloader"
      ]
    },
    {
      "cell_type": "code",
      "execution_count": null,
      "metadata": {
        "id": "imZncLm6a2jL"
      },
      "outputs": [],
      "source": [
        "torch.set_printoptions(precision=5, sci_mode=False)\n",
        "np.set_printoptions(precision=5, suppress=True)\n",
        "\n",
        "device = torch.device(\"cuda\" if torch.cuda.is_available() else \"cpu\")"
      ]
    },
    {
      "cell_type": "code",
      "execution_count": null,
      "metadata": {
        "id": "BTo64-K7agvO"
      },
      "outputs": [],
      "source": [
        "test_set, test_loader = make_dataloader(test, input_step, predict_step, batch_size=600)\n",
        "all_data = test_set.data[:,0]"
      ]
    },
    {
      "cell_type": "code",
      "execution_count": null,
      "metadata": {
        "colab": {
          "base_uri": "https://localhost:8080/"
        },
        "id": "YTjLEsFeXQRS",
        "outputId": "458453d0-cad8-433e-d037-3a67736e75fd"
      },
      "outputs": [
        {
          "output_type": "execute_result",
          "data": {
            "text/plain": [
              "60"
            ]
          },
          "metadata": {},
          "execution_count": 41
        }
      ],
      "source": [
        "test.size"
      ]
    },
    {
      "cell_type": "markdown",
      "metadata": {
        "id": "msL_XKH2lG5z"
      },
      "source": [
        "Load Model & State"
      ]
    },
    {
      "cell_type": "code",
      "execution_count": null,
      "metadata": {
        "colab": {
          "base_uri": "https://localhost:8080/"
        },
        "id": "90mbYcVYiGSX",
        "outputId": "59444416-ed86-4bbf-e182-adae012c6271"
      },
      "outputs": [
        {
          "output_type": "stream",
          "name": "stdout",
          "text": [
            "284\n"
          ]
        }
      ],
      "source": [
        "epoch_num = best_val_epoch\n",
        "print(epoch_num)\n",
        "par_path = os.path.join(model_path, \"best_val_loss_model.model\")"
      ]
    },
    {
      "cell_type": "code",
      "execution_count": null,
      "metadata": {
        "id": "u6RHvScCh4Xo"
      },
      "outputs": [],
      "source": [
        "net = Transformer(device, d_model, in_dim, N_enc, N_dec, h_enc, h_dec, ff_hidnum, hid_pre, hid_post, dropout_pre, dropout_post, dropout_model, norm_first)\n",
        "    \n",
        "# load parameter\n",
        "if device == torch.device(\"cpu\"):\n",
        "  net.load_state_dict(torch.load(par_path, map_location=torch.device(\"cpu\")))\n",
        "else:\n",
        "  net.load_state_dict(torch.load(par_path,map_location=torch.device(device)))"
      ]
    },
    {
      "cell_type": "markdown",
      "metadata": {
        "id": "4Vz2Sud2lNW-"
      },
      "source": [
        "Testing"
      ]
    },
    {
      "cell_type": "code",
      "execution_count": null,
      "metadata": {
        "id": "iFZrocMbsUHP"
      },
      "outputs": [],
      "source": [
        "net.eval()\n",
        "\n",
        "pred_list = np.zeros((1, predict_step))\n",
        "for iter, (x, y, tgt) in enumerate(test_loader):\n",
        "    tgt = tgt[:,:,0]\n",
        "\n",
        "    out = net.generate(x, tgt.shape[1], y[:,[0],:])\n",
        "    out = out.to('cpu').detach().numpy().copy()\n",
        "\n",
        "    pred_list = np.concatenate([pred_list, out], axis=0)\n",
        "\n",
        "pred_list = pred_list[1:]\n",
        "D = []\n",
        "for i in range(predict_step):\n",
        "    tmp = np.concatenate([all_data[:(input_step+i)], pred_list[:,i], all_data[(all_data.shape[0]-(predict_step - (i + 1))):]])\n",
        "    D.append(tmp)\n",
        "\n",
        "for step_num, tmp_data in enumerate(D):\n",
        "    n = step_num + 1\n",
        "\n",
        "    np.save(os.path.join(test_result_path, \"pred{}_epoch{}\".format(n, epoch_num)), pred_list[:,[step_num]])\n",
        "    np.save(os.path.join(test_result_path, \"tgt{}_epoch{}\".format(n, epoch_num)), tgt[:,[step_num]])"
      ]
    },
    {
      "cell_type": "markdown",
      "metadata": {
        "id": "2Vze_7nVlRGN"
      },
      "source": [
        "Plot"
      ]
    },
    {
      "cell_type": "code",
      "execution_count": null,
      "metadata": {
        "colab": {
          "base_uri": "https://localhost:8080/"
        },
        "id": "e9DwqnP-uXVI",
        "outputId": "6c0e87a2-3f1c-4a3d-8219-38fb541d64c4"
      },
      "outputs": [
        {
          "output_type": "display_data",
          "data": {
            "text/plain": [
              "<Figure size 504x216 with 1 Axes>"
            ],
            "image/png": "[encoded data removed]"
          },
          "metadata": {
            "needs_background": "light"
          }
        }
      ],
      "source": [
        "all_data_denorm = np.round(scaler.inverse_transform(all_data.reshape(all_data.size,1)))\n",
        "\n",
        "fig, (ax1) = plt.subplots(1, 1,figsize=(7,3), sharex=True, sharey=True)\n",
        "fig.suptitle(f'Prdiction plot epoch {epoch_num}')\n",
        "\n",
        "for ind, d in enumerate(D):\n",
        "  d_denorm = np.round(scaler.inverse_transform(d.reshape(d.size,1)))\n",
        "\n",
        "  exec(\"ax\"+str(ind+1)+\".plot(all_data_denorm, label='true')\")\n",
        "  exec(\"ax\"+str(ind+1)+\".plot(d_denorm, label=f'predict {ind+1}')\")\n",
        "  exec(\"ax\"+str(ind+1)+\".axvline(input_step+ind-1,ls='dashed',c='r')\")\n",
        "  # exec(\"ax\"+str(ind+1)+\".set_title(f'predict {ind+1}')\")\n",
        "  exec(\"ax\"+str(ind+1)+\".legend()\")"
      ]
    },
    {
      "cell_type": "markdown",
      "metadata": {
        "id": "FQhSG5jvTn9z"
      },
      "source": [
        "## Error"
      ]
    },
    {
      "cell_type": "code",
      "execution_count": null,
      "metadata": {
        "id": "zwQpUtwkPCbK"
      },
      "outputs": [],
      "source": [
        "from sklearn.metrics import mean_squared_error, mean_absolute_error, mean_absolute_percentage_error"
      ]
    },
    {
      "cell_type": "code",
      "execution_count": null,
      "metadata": {
        "colab": {
          "base_uri": "https://localhost:8080/"
        },
        "id": "woEOizZZ3Vrv",
        "outputId": "0a676690-bb18-40fe-d9b9-c19a6bf0ca48"
      },
      "outputs": [
        {
          "output_type": "stream",
          "name": "stdout",
          "text": [
            "Error Pred 1\n",
            "MAPE\t : 23.584946900129218\n",
            "MAE\t : 6620.245283018868\n",
            "MSE\t : 69779498.13207547\n",
            "RMSE\t : 8353.41236454154\n",
            "\n"
          ]
        }
      ],
      "source": [
        "for ind, d in enumerate(D):\n",
        "    d_denorm = np.round(scaler.inverse_transform(d.reshape(d.size,1)))\n",
        "    print(f\"Error Pred {ind+1}\")\n",
        "    print(f\"MAPE\\t : {mean_absolute_percentage_error(all_data_denorm[input_step+ind:], d_denorm[input_step+ind:])*100}\")\n",
        "    print(f\"MAE\\t : {mean_absolute_error(all_data_denorm[input_step+ind:], d_denorm[input_step+ind:])}\")\n",
        "    print(f\"MSE\\t : {mean_squared_error(all_data_denorm[input_step+ind:], d_denorm[input_step+ind:])}\")\n",
        "    print(f\"RMSE\\t : {np.sqrt(mean_squared_error(all_data_denorm[input_step+ind:], d_denorm[input_step+ind:]))}\\n\")"
      ]
    },
    {
      "cell_type": "markdown",
      "metadata": {
        "id": "HWqBXMUErwwK"
      },
      "source": [
        "# LSTM"
      ]
    },
    {
      "cell_type": "markdown",
      "metadata": {
        "id": "xSItPJipBaZ5"
      },
      "source": [
        "## Library"
      ]
    },
    {
      "cell_type": "code",
      "execution_count": null,
      "metadata": {
        "id": "wb-Z7wNKUJko"
      },
      "outputs": [],
      "source": [
        "import numpy as np\n",
        "import matplotlib.pyplot as plt\n",
        "import pandas as pd\n",
        "import torch\n",
        "import torch.nn as nn\n",
        "from torch.autograd import Variable\n",
        "from sklearn.preprocessing import MinMaxScaler"
      ]
    },
    {
      "cell_type": "markdown",
      "metadata": {
        "id": "--1LVbHOBSIy"
      },
      "source": [
        "## Model"
      ]
    },
    {
      "cell_type": "code",
      "execution_count": null,
      "metadata": {
        "id": "xfsVgtLGSXUv"
      },
      "outputs": [],
      "source": [
        "class LSTM(nn.Module):\n",
        "\n",
        "    def __init__(self, input_size, num_classes, hidden_size, num_layers):\n",
        "        super(LSTM, self).__init__()\n",
        "        \n",
        "        self.num_classes = num_classes\n",
        "        self.num_layers = num_layers\n",
        "        self.input_size = input_size\n",
        "        self.hidden_size = hidden_size\n",
        "        self.seq_length = seq_length\n",
        "        \n",
        "        self.lstm = nn.LSTM(input_size=input_size, hidden_size=hidden_size,\n",
        "                            num_layers=num_layers, batch_first=True)\n",
        "        \n",
        "        self.fc = nn.Linear(hidden_size, num_classes)\n",
        "\n",
        "    def forward(self, x):\n",
        "        h_0 = Variable(torch.zeros(\n",
        "            self.num_layers, x.size(0), self.hidden_size))\n",
        "        \n",
        "        c_0 = Variable(torch.zeros(\n",
        "            self.num_layers, x.size(0), self.hidden_size))\n",
        "        \n",
        "        # Propagate input through LSTM\n",
        "        ula, (h_out, _) = self.lstm(x, (h_0, c_0))\n",
        "        \n",
        "        h_out = h_out.view(-1, self.hidden_size)\n",
        "        \n",
        "        out = self.fc(h_out)\n",
        "        \n",
        "        return out"
      ]
    },
    {
      "cell_type": "markdown",
      "metadata": {
        "id": "NabsV8O5BBd5"
      },
      "source": [
        "## Dataset"
      ]
    },
    {
      "cell_type": "code",
      "execution_count": null,
      "metadata": {
        "id": "sE7wChRlARDW"
      },
      "outputs": [],
      "source": [
        "# data_path = 'https://data.covid19.go.id/public/api/update.json'\n",
        "# data_path = 'update_22-3-2022.json'\n",
        "import requests\n",
        "import json\n",
        "import pandas as pd\n",
        "\n",
        "def load_data(data_path, from_api=True, dataset_len=None):\n",
        "    data = requests.get(data_path).json() if from_api else pd.read_json(data_path)\n",
        "\n",
        "    df = pd.DataFrame(data['update']['harian'])[['key','jumlah_positif']]\n",
        "    df.key = pd.to_datetime(df.key, unit='ms')\n",
        "\n",
        "    for i, row in enumerate(df.jumlah_positif):\n",
        "        df.loc[i,['jumlah_positif']] = row.get('value')\n",
        "\n",
        "    df = df.set_index('key')\n",
        "    data_len = df.shape[0]\n",
        "    numpy_use = df.to_numpy() if dataset_len == None else df[:dataset_len].to_numpy()\n",
        "\n",
        "    return numpy_use"
      ]
    },
    {
      "cell_type": "code",
      "execution_count": null,
      "metadata": {
        "id": "RwQF4Y85-Hpn"
      },
      "outputs": [],
      "source": [
        "# data = load_data('update 12-05-2022.json', from_api=False, dataset_len=750)\n",
        "data = load_data('https://data.covid19.go.id/public/api/update.json', dataset_len=750)"
      ]
    },
    {
      "cell_type": "code",
      "execution_count": null,
      "metadata": {
        "colab": {
          "base_uri": "https://localhost:8080/"
        },
        "id": "j6MEnfZ3-70K",
        "outputId": "30d509eb-9636-4497-affa-1c35bbd146a2"
      },
      "outputs": [
        {
          "output_type": "execute_result",
          "data": {
            "text/plain": [
              "750"
            ]
          },
          "metadata": {},
          "execution_count": 52
        }
      ],
      "source": [
        "data.size"
      ]
    },
    {
      "cell_type": "code",
      "execution_count": null,
      "metadata": {
        "id": "vIWvJCpOVmwU"
      },
      "outputs": [],
      "source": [
        "def sliding_windows(data, seq_length):\n",
        "    x = []\n",
        "    y = []\n",
        "\n",
        "    for i in range(len(data)-seq_length-1):\n",
        "        _x = data[i:(i+seq_length)]\n",
        "        _y = data[i+seq_length]\n",
        "        x.append(_x)\n",
        "        y.append(_y)\n",
        "\n",
        "    return np.array(x),np.array(y)\n",
        "\n",
        "sc = MinMaxScaler(feature_range=(-1, 1))\n",
        "training_data = sc.fit_transform(data)\n",
        "\n",
        "seq_length = 7\n",
        "x, y = sliding_windows(training_data, seq_length)\n",
        "\n",
        "test_size = 60\n",
        "train_size = int(len(y) - test_size)\n",
        "\n",
        "dataX = Variable(torch.Tensor(np.array(x)))\n",
        "dataY = Variable(torch.Tensor(np.array(y)))\n",
        "\n",
        "trainX = Variable(torch.Tensor(np.array(x[0:train_size])))\n",
        "trainY = Variable(torch.Tensor(np.array(y[0:train_size])))\n",
        "\n",
        "testX = Variable(torch.Tensor(np.array(x[train_size:len(x)])))\n",
        "testY = Variable(torch.Tensor(np.array(y[train_size:len(y)])))"
      ]
    },
    {
      "cell_type": "markdown",
      "metadata": {
        "id": "tdzFI5GJBUF5"
      },
      "source": [
        "## Training"
      ]
    },
    {
      "cell_type": "code",
      "execution_count": null,
      "metadata": {
        "colab": {
          "base_uri": "https://localhost:8080/"
        },
        "id": "a2vvHeFgVtCp",
        "outputId": "61cbc6ca-f3c7-4b53-f3fa-7d2e8964b636"
      },
      "outputs": [
        {
          "output_type": "stream",
          "name": "stdout",
          "text": [
            "Epoch: 0, loss: 0.94147\n",
            "Epoch: 100, loss: 0.00467\n",
            "Epoch: 200, loss: 0.00414\n",
            "Epoch: 300, loss: 0.00333\n",
            "Epoch: 400, loss: 0.00290\n",
            "Epoch: 500, loss: 0.00271\n",
            "Epoch: 600, loss: 0.00186\n",
            "Epoch: 700, loss: 0.00136\n",
            "Epoch: 800, loss: 0.00117\n",
            "Epoch: 900, loss: 0.00098\n",
            "Epoch: 1000, loss: 0.00076\n",
            "Epoch: 1100, loss: 0.00077\n",
            "Epoch: 1200, loss: 0.00064\n",
            "Epoch: 1300, loss: 0.00065\n",
            "Epoch: 1400, loss: 0.00062\n",
            "Epoch: 1500, loss: 0.00052\n",
            "Epoch: 1600, loss: 0.00050\n",
            "Epoch: 1700, loss: 0.00051\n",
            "Epoch: 1800, loss: 0.00050\n",
            "Epoch: 1900, loss: 0.00049\n"
          ]
        }
      ],
      "source": [
        "num_epochs = 2000\n",
        "learning_rate = 0.01\n",
        "\n",
        "input_size = 1\n",
        "hidden_size = 16\n",
        "num_layers = 1\n",
        "\n",
        "num_classes = 1\n",
        "\n",
        "lstm = LSTM(input_size, num_classes, hidden_size, num_layers)\n",
        "\n",
        "criterion = torch.nn.MSELoss()\n",
        "optimizer = torch.optim.Adam(lstm.parameters(), lr=learning_rate, betas=(0.9,0.98))\n",
        "\n",
        "# hidden = None\n",
        "\n",
        "# Train the model\n",
        "for epoch in range(num_epochs):\n",
        "    # print(trainX.shape)\n",
        "    # outputs, hidden = rnn(trainX, hidden)\n",
        "    outputs = lstm(trainX)\n",
        "    optimizer.zero_grad()\n",
        "    \n",
        "    # print(outputs.shape, trainY.shape)\n",
        "    # obtain the loss function\n",
        "    loss = criterion(outputs, trainY)\n",
        "    \n",
        "    loss.backward()\n",
        "    \n",
        "    optimizer.step()\n",
        "    if epoch % 100 == 0:\n",
        "      print(\"Epoch: %d, loss: %1.5f\" % (epoch, loss.item()))"
      ]
    },
    {
      "cell_type": "markdown",
      "metadata": {
        "id": "35ndYIwIKteS"
      },
      "source": [
        "## Testing\n",
        "\n"
      ]
    },
    {
      "cell_type": "code",
      "execution_count": null,
      "metadata": {
        "colab": {
          "base_uri": "https://localhost:8080/"
        },
        "id": "GAnb88JaKeWr",
        "outputId": "562e0bb3-1f33-428d-9854-3f855761d95d"
      },
      "outputs": [
        {
          "output_type": "execute_result",
          "data": {
            "text/plain": [
              "torch.Size([60, 7, 1])"
            ]
          },
          "metadata": {},
          "execution_count": 55
        }
      ],
      "source": [
        "testX.shape"
      ]
    },
    {
      "cell_type": "code",
      "execution_count": null,
      "metadata": {
        "id": "CKEzO1jzKydL"
      },
      "outputs": [],
      "source": [
        "lstm.eval()\n",
        "train_predict = lstm(testX)\n",
        "\n",
        "data_predict = train_predict.data.numpy()\n",
        "dataY_plot = testY.data.numpy()\n",
        "\n",
        "data_predict = np.round(sc.inverse_transform(data_predict))\n",
        "np.savetxt('data_predict.csv', data_predict, delimiter=',')\n",
        "\n",
        "dataY_plot = np.round(sc.inverse_transform(dataY_plot))\n",
        "np.savetxt('dataY_plot.csv', dataY_plot, delimiter=',')"
      ]
    },
    {
      "cell_type": "code",
      "execution_count": null,
      "metadata": {
        "colab": {
          "base_uri": "https://localhost:8080/",
          "height": 265
        },
        "id": "19_mmG2FXYPJ",
        "outputId": "dd787174-19bc-4bfb-b163-e8b3ab52c31d"
      },
      "outputs": [
        {
          "output_type": "display_data",
          "data": {
            "text/plain": [
              "<Figure size 504x216 with 1 Axes>"
            ],
            "image/png": "[encoded data removed]"
          },
          "metadata": {
            "needs_background": "light"
          }
        }
      ],
      "source": [
        "import matplotlib.pyplot as plt\n",
        "import matplotlib as mpl\n",
        "import matplotlib.dates as mdates\n",
        "\n",
        "fig, ax = plt.subplots(figsize=(7,3))\n",
        "ax.plot(dataY_plot, label=\"true\", linewidth=1.25)\n",
        "ax.plot(data_predict, label=\"LSTM\", linewidth=0.9)\n",
        "plt.xticks(np.arange(0,61,4),[d.strftime('%Y-%m-%d') for d in pd.date_range('2022-01-21', periods=16, freq='4D')], rotation=45)\n",
        "plt.title(\"LSTM predict vs true\")\n",
        "plt.legend()\n",
        "plt.show()"
      ]
    },
    {
      "cell_type": "markdown",
      "metadata": {
        "id": "-XcfqKK4FN9h"
      },
      "source": [
        "## Error"
      ]
    },
    {
      "cell_type": "code",
      "execution_count": null,
      "metadata": {
        "id": "F22fB6krDmWy"
      },
      "outputs": [],
      "source": [
        "from sklearn.metrics import mean_squared_error, mean_absolute_error, mean_absolute_percentage_error"
      ]
    },
    {
      "cell_type": "code",
      "execution_count": null,
      "metadata": {
        "colab": {
          "base_uri": "https://localhost:8080/"
        },
        "id": "5iCKnznRFPSO",
        "outputId": "0987e114-80c8-4a58-cf3a-8ceb01da73b9"
      },
      "outputs": [
        {
          "output_type": "stream",
          "name": "stdout",
          "text": [
            "Error Pred\n",
            "MAPE\t : 26.687997579574585\n",
            "MAE\t : 6988.66650390625\n",
            "MSE\t : 85940536.0\n",
            "RMSE\t : 9270.412109375\n",
            "\n"
          ]
        }
      ],
      "source": [
        "print(f\"Error Pred\")\n",
        "print(f\"MAPE\\t : {mean_absolute_percentage_error(data_predict, dataY_plot)*100}\")\n",
        "print(f\"MAE\\t : {mean_absolute_error(data_predict, dataY_plot)}\")\n",
        "print(f\"MSE\\t : {mean_squared_error(data_predict, dataY_plot)}\")\n",
        "print(f\"RMSE\\t : {np.sqrt(mean_squared_error(data_predict, dataY_plot))}\\n\")"
      ]
    },
    {
      "cell_type": "markdown",
      "metadata": {
        "id": "LZKmgYgBoEt2"
      },
      "source": [
        "# RNN"
      ]
    },
    {
      "cell_type": "markdown",
      "metadata": {
        "id": "olQP4qKEoEt2"
      },
      "source": [
        "## Library"
      ]
    },
    {
      "cell_type": "code",
      "execution_count": null,
      "metadata": {
        "id": "BKsBUWM1oEt2"
      },
      "outputs": [],
      "source": [
        "import numpy as np\n",
        "import matplotlib.pyplot as plt\n",
        "import pandas as pd\n",
        "import torch\n",
        "import torch.nn as nn\n",
        "from torch.autograd import Variable\n",
        "from sklearn.preprocessing import MinMaxScaler"
      ]
    },
    {
      "cell_type": "markdown",
      "metadata": {
        "id": "zKX7w5NRoEt3"
      },
      "source": [
        "## Model"
      ]
    },
    {
      "cell_type": "code",
      "source": [
        "class RNN(nn.Module):\n",
        "    def __init__(self, input_dim, output_dim,  hidden_dim, layer_dim):\n",
        "        super(RNN, self).__init__()\n",
        "        # Hidden dimensions\n",
        "        self.hidden_dim = hidden_dim\n",
        "\n",
        "        # Number of hidden layers\n",
        "        self.layer_dim = layer_dim\n",
        "\n",
        "        # Building your RNN\n",
        "        # batch_first=True causes input/output tensors to be of shape\n",
        "        # (batch_dim, seq_dim, input_dim)\n",
        "        # batch_dim = number of samples per batch\n",
        "        self.rnn = nn.RNN(input_dim, hidden_dim, layer_dim, batch_first=True, nonlinearity='relu')\n",
        "\n",
        "        # Readout layer\n",
        "        self.fc = nn.Linear(hidden_dim, output_dim)\n",
        "\n",
        "    def forward(self, x):\n",
        "        # Initialize hidden state with zeros\n",
        "        # (layer_dim, batch_size, hidden_dim)\n",
        "        h0 = torch.zeros(self.layer_dim, x.size(0), self.hidden_dim).requires_grad_()\n",
        "\n",
        "        # We need to detach the hidden state to prevent exploding/vanishing gradients\n",
        "        # This is part of truncated backpropagation through time (BPTT)\n",
        "        out, hn = self.rnn(x, h0.detach())\n",
        "\n",
        "        # Index hidden state of last time step\n",
        "        # out.size() --> 100, 28, 10\n",
        "        # out[:, -1, :] --> 100, 10 --> just want last time step hidden states! \n",
        "        out = self.fc(out[:, -1, :]) \n",
        "        # out.size() --> 100, 10\n",
        "        return out"
      ],
      "metadata": {
        "id": "ZqM67N9lt1Hm"
      },
      "execution_count": null,
      "outputs": []
    },
    {
      "cell_type": "markdown",
      "metadata": {
        "id": "v4IbeWUNoEt3"
      },
      "source": [
        "## Dataset"
      ]
    },
    {
      "cell_type": "code",
      "execution_count": null,
      "metadata": {
        "id": "rkeq88F0oEt3"
      },
      "outputs": [],
      "source": [
        "# data_path = 'https://data.covid19.go.id/public/api/update.json'\n",
        "# data_path = 'update_22-3-2022.json'\n",
        "import requests\n",
        "import json\n",
        "import pandas as pd\n",
        "\n",
        "def load_data(data_path, from_api=True, dataset_len=None):\n",
        "    data = requests.get(data_path).json() if from_api else pd.read_json(data_path)\n",
        "\n",
        "    df = pd.DataFrame(data['update']['harian'])[['key','jumlah_positif']]\n",
        "    df.key = pd.to_datetime(df.key, unit='ms')\n",
        "\n",
        "    for i, row in enumerate(df.jumlah_positif):\n",
        "        df.loc[i,['jumlah_positif']] = row.get('value')\n",
        "\n",
        "    df = df.set_index('key')\n",
        "    data_len = df.shape[0]\n",
        "    numpy_use = df.to_numpy() if dataset_len == None else df[:dataset_len].to_numpy()\n",
        "\n",
        "    return numpy_use"
      ]
    },
    {
      "cell_type": "code",
      "execution_count": null,
      "metadata": {
        "id": "jWZaMmr6oEt3"
      },
      "outputs": [],
      "source": [
        "# data = load_data('update 12-05-2022.json', from_api=False, dataset_len=750)\n",
        "data = load_data('https://data.covid19.go.id/public/api/update.json', dataset_len=750)"
      ]
    },
    {
      "cell_type": "code",
      "execution_count": null,
      "metadata": {
        "colab": {
          "base_uri": "https://localhost:8080/"
        },
        "outputId": "355d3f14-cdc3-4688-93de-c432c55204e0",
        "id": "XtzYhNjuoEt3"
      },
      "outputs": [
        {
          "output_type": "execute_result",
          "data": {
            "text/plain": [
              "750"
            ]
          },
          "metadata": {},
          "execution_count": 64
        }
      ],
      "source": [
        "data.size"
      ]
    },
    {
      "cell_type": "code",
      "execution_count": null,
      "metadata": {
        "id": "H_wgexu1oEt4"
      },
      "outputs": [],
      "source": [
        "def sliding_windows(data, seq_length):\n",
        "    x = []\n",
        "    y = []\n",
        "\n",
        "    for i in range(len(data)-seq_length-1):\n",
        "        _x = data[i:(i+seq_length)]\n",
        "        _y = data[i+seq_length]\n",
        "        x.append(_x)\n",
        "        y.append(_y)\n",
        "\n",
        "    return np.array(x),np.array(y)\n",
        "\n",
        "sc = MinMaxScaler(feature_range=(-1, 1))\n",
        "training_data = sc.fit_transform(data)\n",
        "\n",
        "seq_length = 7\n",
        "x, y = sliding_windows(training_data, seq_length)\n",
        "\n",
        "test_size = 60\n",
        "train_size = int(len(y) - test_size)\n",
        "\n",
        "dataX = Variable(torch.Tensor(np.array(x)))\n",
        "dataY = Variable(torch.Tensor(np.array(y)))\n",
        "\n",
        "trainX = Variable(torch.Tensor(np.array(x[0:train_size])))\n",
        "trainY = Variable(torch.Tensor(np.array(y[0:train_size])))\n",
        "\n",
        "testX = Variable(torch.Tensor(np.array(x[train_size:len(x)])))\n",
        "testY = Variable(torch.Tensor(np.array(y[train_size:len(y)])))"
      ]
    },
    {
      "cell_type": "markdown",
      "metadata": {
        "id": "uGebfEF6oEt4"
      },
      "source": [
        "## Training"
      ]
    },
    {
      "cell_type": "code",
      "execution_count": null,
      "metadata": {
        "colab": {
          "base_uri": "https://localhost:8080/"
        },
        "outputId": "a06706c6-2b13-4eb6-deaa-f4825ac191f8",
        "id": "wDYxjbSSoEt4"
      },
      "outputs": [
        {
          "output_type": "stream",
          "name": "stdout",
          "text": [
            "Epoch: 0, loss: 0.73357\n",
            "Epoch: 100, loss: 0.00321\n",
            "Epoch: 200, loss: 0.00261\n",
            "Epoch: 300, loss: 0.00238\n",
            "Epoch: 400, loss: 0.00220\n",
            "Epoch: 500, loss: 0.00157\n",
            "Epoch: 600, loss: 0.00152\n",
            "Epoch: 700, loss: 0.00139\n",
            "Epoch: 800, loss: 0.00110\n",
            "Epoch: 900, loss: 0.00107\n",
            "Epoch: 1000, loss: 0.00105\n",
            "Epoch: 1100, loss: 0.00104\n",
            "Epoch: 1200, loss: 0.00095\n",
            "Epoch: 1300, loss: 0.00093\n",
            "Epoch: 1400, loss: 0.00089\n",
            "Epoch: 1500, loss: 0.00092\n",
            "Epoch: 1600, loss: 0.00122\n",
            "Epoch: 1700, loss: 0.00088\n",
            "Epoch: 1800, loss: 0.00085\n",
            "Epoch: 1900, loss: 0.00085\n"
          ]
        }
      ],
      "source": [
        "num_epochs = 2000\n",
        "learning_rate = 0.01\n",
        "\n",
        "input_size = 1\n",
        "hidden_size = 16\n",
        "num_layers = 1\n",
        "\n",
        "num_classes = 1\n",
        "\n",
        "rnn = RNN(input_size, num_classes, hidden_size, num_layers)\n",
        "\n",
        "criterion = torch.nn.MSELoss()\n",
        "optimizer = torch.optim.Adam(rnn.parameters(), lr=learning_rate, betas=(0.9,0.98))\n",
        "\n",
        "# hidden = None\n",
        "\n",
        "# Train the model\n",
        "for epoch in range(num_epochs):\n",
        "    # print(trainX.shape)\n",
        "    # outputs, hidden = rnn(trainX, hidden)\n",
        "    outputs = rnn(trainX)\n",
        "    optimizer.zero_grad()\n",
        "    \n",
        "    # print(outputs.shape, trainY.shape)\n",
        "    # obtain the loss function\n",
        "    loss = criterion(outputs, trainY)\n",
        "    \n",
        "    loss.backward()\n",
        "    \n",
        "    optimizer.step()\n",
        "    if epoch % 100 == 0:\n",
        "      print(\"Epoch: %d, loss: %1.5f\" % (epoch, loss.item()))"
      ]
    },
    {
      "cell_type": "markdown",
      "metadata": {
        "id": "SzBLK0lHoEt4"
      },
      "source": [
        "## Testing\n",
        "\n"
      ]
    },
    {
      "cell_type": "code",
      "execution_count": null,
      "metadata": {
        "colab": {
          "base_uri": "https://localhost:8080/"
        },
        "outputId": "369b5a42-9216-4e18-e158-176913e84c13",
        "id": "XzEWR1DuoEt4"
      },
      "outputs": [
        {
          "output_type": "execute_result",
          "data": {
            "text/plain": [
              "torch.Size([60, 7, 1])"
            ]
          },
          "metadata": {},
          "execution_count": 67
        }
      ],
      "source": [
        "testX.shape"
      ]
    },
    {
      "cell_type": "code",
      "execution_count": null,
      "metadata": {
        "id": "jsq0gJxUoEt4"
      },
      "outputs": [],
      "source": [
        "rnn.eval()\n",
        "train_predict = rnn(testX)\n",
        "\n",
        "data_predict = train_predict.data.numpy()\n",
        "dataY_plot = testY.data.numpy()\n",
        "\n",
        "data_predict = np.round(sc.inverse_transform(data_predict))\n",
        "np.savetxt('data_predict.csv', data_predict, delimiter=',')\n",
        "\n",
        "dataY_plot = np.round(sc.inverse_transform(dataY_plot))\n",
        "np.savetxt('dataY_plot.csv', dataY_plot, delimiter=',')"
      ]
    },
    {
      "cell_type": "code",
      "execution_count": null,
      "metadata": {
        "colab": {
          "base_uri": "https://localhost:8080/"
        },
        "outputId": "9290ca0d-2a70-47ba-aea9-38c80fc32137",
        "id": "_f8mCiTzoEt5"
      },
      "outputs": [
        {
          "output_type": "display_data",
          "data": {
            "text/plain": [
              "<Figure size 504x216 with 1 Axes>"
            ],
            "image/png": "[encoded data removed]"
          },
          "metadata": {
            "needs_background": "light"
          }
        }
      ],
      "source": [
        "import matplotlib.pyplot as plt\n",
        "import matplotlib as mpl\n",
        "import matplotlib.dates as mdates\n",
        "\n",
        "fig, ax = plt.subplots(figsize=(7,3))\n",
        "ax.plot(dataY_plot, label=\"true\", linewidth=1.25)\n",
        "ax.plot(data_predict, label=\"RNN\", linewidth=0.9)\n",
        "plt.xticks(np.arange(0,61,4),[d.strftime('%Y-%m-%d') for d in pd.date_range('2022-01-21', periods=16, freq='4D')], rotation=45)\n",
        "plt.title(\"RNN predict vs true\")\n",
        "plt.legend()\n",
        "plt.show()"
      ]
    },
    {
      "cell_type": "markdown",
      "metadata": {
        "id": "1mIk-3DqoEt5"
      },
      "source": [
        "## Error"
      ]
    },
    {
      "cell_type": "code",
      "execution_count": null,
      "metadata": {
        "id": "K-US7z6GoEt5"
      },
      "outputs": [],
      "source": [
        "from sklearn.metrics import mean_squared_error, mean_absolute_error, mean_absolute_percentage_error"
      ]
    },
    {
      "cell_type": "code",
      "execution_count": null,
      "metadata": {
        "colab": {
          "base_uri": "https://localhost:8080/"
        },
        "outputId": "29ab1342-4fe2-48b2-a882-8de7fae4bc92",
        "id": "Qcf4PDSsoEt5"
      },
      "outputs": [
        {
          "output_type": "stream",
          "name": "stdout",
          "text": [
            "Error Pred\n",
            "MAPE\t : 30.334004759788513\n",
            "MAE\t : 6421.85009765625\n",
            "MSE\t : 91986568.0\n",
            "RMSE\t : 9590.962890625\n",
            "\n"
          ]
        }
      ],
      "source": [
        "print(f\"Error Pred\")\n",
        "print(f\"MAPE\\t : {mean_absolute_percentage_error(data_predict, dataY_plot)*100}\")\n",
        "print(f\"MAE\\t : {mean_absolute_error(data_predict, dataY_plot)}\")\n",
        "print(f\"MSE\\t : {mean_squared_error(data_predict, dataY_plot)}\")\n",
        "print(f\"RMSE\\t : {np.sqrt(mean_squared_error(data_predict, dataY_plot))}\\n\")"
      ]
    }
  ],
  "metadata": {
    "colab": {
      "collapsed_sections": [],
      "name": "Porto Deep Transformer Time Series",
      "provenance": [],
      "toc_visible": true
    },
    "gpuClass": "standard",
    "kernelspec": {
      "display_name": "Python 3",
      "name": "python3"
    },
    "language_info": {
      "name": "python"
    }
  },
  "nbformat": 4,
  "nbformat_minor": 0
}
